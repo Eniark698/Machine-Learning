{
 "cells": [
  {
   "cell_type": "code",
   "execution_count": 1,
   "metadata": {},
   "outputs": [
    {
     "name": "stdout",
     "output_type": "stream",
     "text": [
      "1 Physical GPU, 1 Logical GPU\n"
     ]
    },
    {
     "name": "stderr",
     "output_type": "stream",
     "text": [
      "2024-04-05 13:42:18.002991: I metal_plugin/src/device/metal_device.cc:1154] Metal device set to: Apple M2\n",
      "2024-04-05 13:42:18.003009: I metal_plugin/src/device/metal_device.cc:296] systemMemory: 8.00 GB\n",
      "2024-04-05 13:42:18.003012: I metal_plugin/src/device/metal_device.cc:313] maxCacheSize: 2.67 GB\n",
      "2024-04-05 13:42:18.003037: I tensorflow/core/common_runtime/pluggable_device/pluggable_device_factory.cc:306] Could not identify NUMA node of platform GPU ID 0, defaulting to 0. Your kernel may not have been built with NUMA support.\n",
      "2024-04-05 13:42:18.003051: I tensorflow/core/common_runtime/pluggable_device/pluggable_device_factory.cc:272] Created TensorFlow device (/job:localhost/replica:0/task:0/device:GPU:0 with 0 MB memory) -> physical PluggableDevice (device: 0, name: METAL, pci bus id: <undefined>)\n"
     ]
    }
   ],
   "source": [
    "import tensorflow as tf\n",
    "import matplotlib.pyplot as plt\n",
    "import numpy as np\n",
    "from sklearn.decomposition import TruncatedSVD\n",
    "\n",
    "#Select GPU if can\n",
    "gpus = tf.config.experimental.list_physical_devices('GPU')\n",
    "if gpus:\n",
    "    try:\n",
    "        tf.config.experimental.set_visible_devices(gpus[0], 'GPU')\n",
    "        logical_gpus = tf.config.experimental.list_logical_devices('GPU')\n",
    "        print(len(gpus), \"Physical GPU,\", len(logical_gpus), \"Logical GPU\")\n",
    "    except RuntimeError as e:\n",
    "        print(e)"
   ]
  },
  {
   "cell_type": "code",
   "execution_count": 2,
   "metadata": {},
   "outputs": [],
   "source": [
    "# Load MNIST dataset\n",
    "(x_train, y_train), (x_test, y_test) = tf.keras.datasets.mnist.load_data()\n",
    "\n",
    "# Normalize and flatten train data\n",
    "x_train, x_test = x_train / 255.0, x_test / 255.0"
   ]
  },
  {
   "cell_type": "code",
   "execution_count": 3,
   "metadata": {},
   "outputs": [],
   "source": [
    "# Reshape data for SVD\n",
    "x_train_flat = x_train.reshape(x_train.shape[0], -1)\n",
    "x_test_flat = x_test.reshape(x_test.shape[0], -1)\n",
    "\n",
    "\n",
    "n_components = 12*12\n",
    "# Apply SVD for data with 12*12 features(144 total from 784)\n",
    "svd = TruncatedSVD(n_components=n_components)\n",
    "x_train_svd = svd.fit_transform(x_train_flat)\n",
    "x_test_svd = svd.transform(x_test_flat)\n",
    "\n",
    "# Reshape data to 3 dims for augmentation method\n",
    "x_train_svd = x_train_svd.reshape(x_train.shape[0], n_components, 1, 1)\n",
    "x_test_svd = x_test_svd.reshape(x_test.shape[0], n_components, 1, 1)\n"
   ]
  },
  {
   "cell_type": "code",
   "execution_count": 4,
   "metadata": {},
   "outputs": [],
   "source": [
    "# Convert the data to a TensorFlow dataset\n",
    "train_dataset = tf.data.Dataset.from_tensor_slices((x_train_svd, y_train))\n",
    "test_dataset=tf.data.Dataset.from_tensor_slices((x_test_svd, y_test))\n",
    "\n",
    "# Augment data\n",
    "def augment(image, label):\n",
    "    image = tf.image.random_flip_left_right(image)\n",
    "    image = tf.image.random_contrast(image, lower=0.8, upper=1.2)\n",
    "    return image, label\n",
    "train_dataset = train_dataset.map(augment)\n"
   ]
  },
  {
   "cell_type": "code",
   "execution_count": 5,
   "metadata": {},
   "outputs": [],
   "source": [
    "#Final model\n",
    "model = tf.keras.models.Sequential([\n",
    "    tf.keras.layers.Flatten(input_shape=(n_components, 1, 1)),\n",
    "    tf.keras.layers.Dense(128, activation='relu'),\n",
    "    tf.keras.layers.Dropout(0.2),\n",
    "    tf.keras.layers.Dense(10, activation='softmax')\n",
    "])\n",
    "\n",
    "model.compile(optimizer='adam', loss='sparse_categorical_crossentropy', metrics=['accuracy'])"
   ]
  },
  {
   "cell_type": "code",
   "execution_count": 6,
   "metadata": {},
   "outputs": [
    {
     "name": "stdout",
     "output_type": "stream",
     "text": [
      "Epoch 1/25\n"
     ]
    },
    {
     "name": "stderr",
     "output_type": "stream",
     "text": [
      "2024-04-05 13:42:28.298747: I tensorflow/core/grappler/optimizers/custom_graph_optimizer_registry.cc:117] Plugin optimizer for device_type GPU is enabled.\n"
     ]
    },
    {
     "name": "stdout",
     "output_type": "stream",
     "text": [
      "1875/1875 [==============================] - 10s 5ms/step - loss: 0.4517 - accuracy: 0.8703 - val_loss: 0.3118 - val_accuracy: 0.9107\n",
      "Epoch 2/25\n",
      "1875/1875 [==============================] - 9s 5ms/step - loss: 0.3366 - accuracy: 0.9067 - val_loss: 0.3174 - val_accuracy: 0.9098\n",
      "Epoch 3/25\n",
      "1875/1875 [==============================] - 9s 5ms/step - loss: 0.3358 - accuracy: 0.9073 - val_loss: 0.3341 - val_accuracy: 0.9057\n",
      "Epoch 4/25\n",
      "1875/1875 [==============================] - 9s 5ms/step - loss: 0.3379 - accuracy: 0.9066 - val_loss: 0.3436 - val_accuracy: 0.9045\n",
      "Epoch 5/25\n",
      "1875/1875 [==============================] - 9s 5ms/step - loss: 0.3419 - accuracy: 0.9061 - val_loss: 0.3491 - val_accuracy: 0.9048\n",
      "Epoch 6/25\n",
      "1875/1875 [==============================] - 10s 5ms/step - loss: 0.3458 - accuracy: 0.9063 - val_loss: 0.3687 - val_accuracy: 0.9003\n",
      "Epoch 7/25\n",
      "1875/1875 [==============================] - 9s 5ms/step - loss: 0.3494 - accuracy: 0.9054 - val_loss: 0.3894 - val_accuracy: 0.8988\n",
      "Epoch 8/25\n",
      "1875/1875 [==============================] - 9s 5ms/step - loss: 0.3523 - accuracy: 0.9052 - val_loss: 0.4112 - val_accuracy: 0.8950\n",
      "Epoch 9/25\n",
      "1875/1875 [==============================] - 9s 5ms/step - loss: 0.3572 - accuracy: 0.9042 - val_loss: 0.4166 - val_accuracy: 0.8947\n",
      "Epoch 10/25\n",
      "1875/1875 [==============================] - 9s 5ms/step - loss: 0.3599 - accuracy: 0.9042 - val_loss: 0.4418 - val_accuracy: 0.8905\n",
      "Epoch 11/25\n",
      "1875/1875 [==============================] - 9s 5ms/step - loss: 0.3655 - accuracy: 0.9031 - val_loss: 0.4632 - val_accuracy: 0.8872\n",
      "Epoch 12/25\n",
      "1875/1875 [==============================] - 9s 5ms/step - loss: 0.3691 - accuracy: 0.9023 - val_loss: 0.4848 - val_accuracy: 0.8838\n",
      "Epoch 13/25\n",
      "1875/1875 [==============================] - 9s 5ms/step - loss: 0.3749 - accuracy: 0.9009 - val_loss: 0.4999 - val_accuracy: 0.8820\n",
      "Epoch 14/25\n",
      "1875/1875 [==============================] - 9s 5ms/step - loss: 0.3797 - accuracy: 0.9001 - val_loss: 0.5132 - val_accuracy: 0.8801\n",
      "Epoch 15/25\n",
      "1875/1875 [==============================] - 9s 5ms/step - loss: 0.3855 - accuracy: 0.8992 - val_loss: 0.5538 - val_accuracy: 0.8741\n",
      "Epoch 16/25\n",
      "1875/1875 [==============================] - 9s 5ms/step - loss: 0.3901 - accuracy: 0.8992 - val_loss: 0.5779 - val_accuracy: 0.8726\n",
      "Epoch 17/25\n",
      "1875/1875 [==============================] - 9s 5ms/step - loss: 0.3956 - accuracy: 0.8980 - val_loss: 0.5828 - val_accuracy: 0.8719\n",
      "Epoch 18/25\n",
      "1875/1875 [==============================] - 9s 5ms/step - loss: 0.4023 - accuracy: 0.8965 - val_loss: 0.6151 - val_accuracy: 0.8684\n",
      "Epoch 19/25\n",
      "1875/1875 [==============================] - 9s 5ms/step - loss: 0.4082 - accuracy: 0.8957 - val_loss: 0.6387 - val_accuracy: 0.8663\n",
      "Epoch 20/25\n",
      "1875/1875 [==============================] - 9s 5ms/step - loss: 0.4150 - accuracy: 0.8956 - val_loss: 0.6619 - val_accuracy: 0.8651\n",
      "Epoch 21/25\n",
      "1875/1875 [==============================] - 9s 5ms/step - loss: 0.4232 - accuracy: 0.8947 - val_loss: 0.6834 - val_accuracy: 0.8622\n",
      "Epoch 22/25\n",
      "1875/1875 [==============================] - 9s 5ms/step - loss: 0.4278 - accuracy: 0.8934 - val_loss: 0.6878 - val_accuracy: 0.8627\n",
      "Epoch 23/25\n",
      "1875/1875 [==============================] - 9s 5ms/step - loss: 0.4340 - accuracy: 0.8933 - val_loss: 0.7339 - val_accuracy: 0.8577\n",
      "Epoch 24/25\n",
      "1875/1875 [==============================] - 9s 5ms/step - loss: 0.4414 - accuracy: 0.8928 - val_loss: 0.7372 - val_accuracy: 0.8589\n",
      "Epoch 25/25\n",
      "1875/1875 [==============================] - 9s 5ms/step - loss: 0.4490 - accuracy: 0.8925 - val_loss: 0.7804 - val_accuracy: 0.8528\n"
     ]
    }
   ],
   "source": [
    "#Fit model\n",
    "history = model.fit(\n",
    "    train_dataset.batch(32),\n",
    "    validation_data=test_dataset.batch(32),\n",
    "    epochs=100)\n"
   ]
  },
  {
   "cell_type": "code",
   "execution_count": 7,
   "metadata": {},
   "outputs": [
    {
     "data": {
      "image/png": "[encoded data removed]",
      "text/plain": [
       "<Figure size 640x480 with 1 Axes>"
      ]
     },
     "metadata": {},
     "output_type": "display_data"
    }
   ],
   "source": [
    "#Plot learnring curve\n",
    "def plot_learning_curve(hist):\n",
    "    fig, axs = plt.subplots(1, 2, figsize=(10, 5))\n",
    "\n",
    "    train_color = '#00bfff'  # Deep sky blue\n",
    "    val_color = '#ff7f50'    # Coral\n",
    "\n",
    "\n",
    "    axs[0].plot(hist.history['accuracy'], color=train_color)\n",
    "    axs[0].plot(hist.history['val_accuracy'], color=val_color)\n",
    "    axs[0].set_title('Model accuracy')\n",
    "    axs[0].set_ylabel('Accuracy')\n",
    "    axs[0].set_xlabel('Epoch')\n",
    "    axs[0].legend(['Train', 'Validation'], loc='upper left')\n",
    "\n",
    "    axs[1].plot(hist.history['loss'], color=train_color)\n",
    "    axs[1].plot(hist.history['val_loss'], color=val_color)\n",
    "    axs[1].set_title('Model loss')\n",
    "    axs[1].set_ylabel('Loss')\n",
    "    axs[1].set_xlabel('Epoch')\n",
    "    axs[1].legend(['Train', 'Validation'], loc='upper left')\n",
    "\n",
    "    plt.show()\n",
    "\n",
    "plot_learning_curve(history)"
   ]
  },
  {
   "cell_type": "code",
   "execution_count": null,
   "metadata": {},
   "outputs": [],
   "source": [
    "model.summary()"
   ]
  }
 ],
 "metadata": {
  "kernelspec": {
   "display_name": "venv",
   "language": "python",
   "name": "python3"
  },
  "language_info": {
   "codemirror_mode": {
    "name": "ipython",
    "version": 3
   },
   "file_extension": ".py",
   "mimetype": "text/x-python",
   "name": "python",
   "nbconvert_exporter": "python",
   "pygments_lexer": "ipython3",
   "version": "3.11.7"
  }
 },
 "nbformat": 4,
 "nbformat_minor": 2
}
