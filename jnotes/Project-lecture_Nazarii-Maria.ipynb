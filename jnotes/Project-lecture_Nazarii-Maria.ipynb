{
 "cells": [
  {
   "cell_type": "code",
   "execution_count": 54,
   "metadata": {},
   "outputs": [
    {
     "name": "stderr",
     "output_type": "stream",
     "text": [
      "/var/folders/l5/hh08yprn4dsbqwfsjk4kb6zr0000gn/T/ipykernel_45633/2948279893.py:11: DtypeWarning: Columns (2,3,4,5,6,7) have mixed types. Specify dtype option on import or set low_memory=False.\n",
      "  df=pd.read_csv('../datasets/household_power_consumption.txt', delimiter=';')\n"
     ]
    }
   ],
   "source": [
    "import numpy as np\n",
    "import pandas as pd\n",
    "import scipy\n",
    "import matplotlib.pyplot as plt\n",
    "from datetime import datetime\n",
    "import dateparser\n",
    "import os\n",
    "\n",
    "#reading file, not standart delimetr, providing it(;) to pandas\n",
    "\n",
    "df=pd.read_csv('../datasets/household_power_consumption.txt', delimiter=';')\n",
    "\n",
    "#rewriting to read from excel\n",
    "#df.to_csv('../temp/timeser.csv',encoding='utf-16', sep='\\t', index=False)"
   ]
  },
  {
   "cell_type": "code",
   "execution_count": 50,
   "metadata": {},
   "outputs": [
    {
     "data": {
      "text/plain": [
       "Date                      object\n",
       "Time                      object\n",
       "Global_active_power       object\n",
       "Global_reactive_power     object\n",
       "Voltage                   object\n",
       "Global_intensity          object\n",
       "Sub_metering_1            object\n",
       "Sub_metering_2            object\n",
       "Sub_metering_3           float64\n",
       "dtype: object"
      ]
     },
     "execution_count": 50,
     "metadata": {},
     "output_type": "execute_result"
    }
   ],
   "source": [
    "#df_compressing['Global_active_power']=df_compressing['Global_active_power'].apply(pd.to_numeric)\n",
    "#df_compressing\n",
    "#df=df.apply(pd.to_numeric, errors='ignore')\n",
    "#df.dtypes\n",
    "\n",
    "\n"
   ]
  },
  {
   "cell_type": "code",
   "execution_count": 51,
   "metadata": {},
   "outputs": [
    {
     "data": {
      "text/plain": [
       "Date                     float64\n",
       "Time                     float64\n",
       "Global_active_power      float64\n",
       "Global_reactive_power    float64\n",
       "Voltage                  float64\n",
       "Global_intensity         float64\n",
       "Sub_metering_1           float64\n",
       "Sub_metering_2           float64\n",
       "Sub_metering_3           float64\n",
       "dtype: object"
      ]
     },
     "execution_count": 51,
     "metadata": {},
     "output_type": "execute_result"
    }
   ],
   "source": [
    "#df=df.apply(pd.to_numeric, errors='coerce')\n",
    "#df.dtypes"
   ]
  },
  {
   "cell_type": "code",
   "execution_count": 60,
   "metadata": {},
   "outputs": [
    {
     "name": "stderr",
     "output_type": "stream",
     "text": [
      "/var/folders/l5/hh08yprn4dsbqwfsjk4kb6zr0000gn/T/ipykernel_45633/3846096155.py:8: UserWarning: Parsing dates in %d/%m/%Y %H:%M:%S format when dayfirst=False (the default) was specified. Pass `dayfirst=True` or specify a format to silence this warning.\n",
      "  df_compressing['Datetime']=df_compressing['Datetime'].apply(pd.to_datetime, errors='coerce')\n"
     ]
    },
    {
     "data": {
      "text/plain": [
       "count    2.049280e+06\n",
       "mean     1.091615e+00\n",
       "std      1.057294e+00\n",
       "min      7.600000e-02\n",
       "25%      3.080000e-01\n",
       "50%      6.020000e-01\n",
       "75%      1.528000e+00\n",
       "max      1.112200e+01\n",
       "Name: Global_active_power, dtype: float64"
      ]
     },
     "execution_count": 60,
     "metadata": {},
     "output_type": "execute_result"
    }
   ],
   "source": [
    "df_compressing=df.copy(deep=True).drop(columns=['Sub_metering_1','Sub_metering_2','Sub_metering_3'])\n",
    "df_compressing['Datetime']=df_compressing['Date'] + ' '+ df_compressing['Time']\n",
    "#df_compressing['Datetime'] = datetime.strptime(df_compressing['Datetime'], '%d/%m/%y %H:%M:%S')\n",
    "\n",
    "df_compressing=df_compressing.drop(columns=['Date', 'Time'])\n",
    "df_compressing=df_compressing[['Datetime','Global_active_power','Global_reactive_power', 'Voltage','Global_intensity']]\n",
    "df_compressing['Global_active_power']=df_compressing['Global_active_power'].apply(pd.to_numeric, errors='coerce')\n",
    "df_compressing['Datetime']=df_compressing['Datetime'].apply(pd.to_datetime, errors='coerce')\n",
    "df_compressing=df_compressing.set_index(df_compressing.columns[0])\n",
    "\n",
    "df_compressing=df_compressing['Global_active_power']\n",
    "df_compressing.describe()\n",
    "\n",
    "\n",
    "#exec_time=5m 7sec\n"
   ]
  },
  {
   "cell_type": "code",
   "execution_count": 63,
   "metadata": {},
   "outputs": [
    {
     "data": {
      "text/plain": [
       "Datetime\n",
       "2006-12-16 17:24:00    4.216\n",
       "2006-12-16 17:25:00    5.360\n",
       "2006-12-16 17:26:00    5.374\n",
       "2006-12-16 17:27:00    5.388\n",
       "2006-12-16 17:28:00    3.666\n",
       "                       ...  \n",
       "2010-11-26 20:58:00    0.946\n",
       "2010-11-26 20:59:00    0.944\n",
       "2010-11-26 21:00:00    0.938\n",
       "2010-11-26 21:01:00    0.934\n",
       "2010-11-26 21:02:00    0.932\n",
       "Name: Global_active_power, Length: 2075259, dtype: float64"
      ]
     },
     "execution_count": 63,
     "metadata": {},
     "output_type": "execute_result"
    }
   ],
   "source": [
    "df_compressing.to_csv('../temp/timeser_final.csv',encoding='utf-16', sep='\\t')\n",
    "df_compressing"
   ]
  },
  {
   "cell_type": "code",
   "execution_count": 73,
   "metadata": {},
   "outputs": [],
   "source": [
    "df_graph=df_compressing.loc['2010-05-05 10:00:00':'2010-11-26 21:02:00']"
   ]
  },
  {
   "cell_type": "code",
   "execution_count": 74,
   "metadata": {},
   "outputs": [
    {
     "data": {
      "text/plain": [
       "[<matplotlib.lines.Line2D at 0x148c2d110>]"
      ]
     },
     "execution_count": 74,
     "metadata": {},
     "output_type": "execute_result"
    },
    {
     "data": {
      "image/png": "[encoded data removed]",
      "text/plain": [
       "<Figure size 640x480 with 1 Axes>"
      ]
     },
     "metadata": {},
     "output_type": "display_data"
    }
   ],
   "source": [
    "plt.plot(df_graph)"
   ]
  }
 ],
 "metadata": {
  "kernelspec": {
   "display_name": "Python 3",
   "language": "python",
   "name": "python3"
  },
  "language_info": {
   "codemirror_mode": {
    "name": "ipython",
    "version": 3
   },
   "file_extension": ".py",
   "mimetype": "text/x-python",
   "name": "python",
   "nbconvert_exporter": "python",
   "pygments_lexer": "ipython3",
   "version": "3.11.4"
  },
  "orig_nbformat": 4
 },
 "nbformat": 4,
 "nbformat_minor": 2
}
