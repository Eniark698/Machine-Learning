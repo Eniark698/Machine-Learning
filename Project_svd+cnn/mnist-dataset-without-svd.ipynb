{
 "cells": [
  {
   "cell_type": "code",
   "execution_count": 1,
   "metadata": {},
   "outputs": [
    {
     "name": "stderr",
     "output_type": "stream",
     "text": [
      "2024-03-10 14:49:01.729707: E external/local_xla/xla/stream_executor/cuda/cuda_dnn.cc:9261] Unable to register cuDNN factory: Attempting to register factory for plugin cuDNN when one has already been registered\n",
      "2024-03-10 14:49:01.729779: E external/local_xla/xla/stream_executor/cuda/cuda_fft.cc:607] Unable to register cuFFT factory: Attempting to register factory for plugin cuFFT when one has already been registered\n",
      "2024-03-10 14:49:01.730736: E external/local_xla/xla/stream_executor/cuda/cuda_blas.cc:1515] Unable to register cuBLAS factory: Attempting to register factory for plugin cuBLAS when one has already been registered\n",
      "2024-03-10 14:49:01.735503: I tensorflow/core/platform/cpu_feature_guard.cc:182] This TensorFlow binary is optimized to use available CPU instructions in performance-critical operations.\n",
      "To enable the following instructions: AVX2 FMA, in other operations, rebuild TensorFlow with the appropriate compiler flags.\n",
      "2024-03-10 14:49:02.482097: W tensorflow/compiler/tf2tensorrt/utils/py_utils.cc:38] TF-TRT Warning: Could not find TensorRT\n"
     ]
    },
    {
     "name": "stdout",
     "output_type": "stream",
     "text": [
      "1 Physical GPU, 1 Logical GPU\n"
     ]
    },
    {
     "name": "stderr",
     "output_type": "stream",
     "text": [
      "2024-03-10 14:49:03.498619: I external/local_xla/xla/stream_executor/cuda/cuda_executor.cc:887] could not open file to read NUMA node: /sys/bus/pci/devices/0000:01:00.0/numa_node\n",
      "Your kernel may have been built without NUMA support.\n",
      "2024-03-10 14:49:03.533343: I external/local_xla/xla/stream_executor/cuda/cuda_executor.cc:887] could not open file to read NUMA node: /sys/bus/pci/devices/0000:01:00.0/numa_node\n",
      "Your kernel may have been built without NUMA support.\n",
      "2024-03-10 14:49:03.533388: I external/local_xla/xla/stream_executor/cuda/cuda_executor.cc:887] could not open file to read NUMA node: /sys/bus/pci/devices/0000:01:00.0/numa_node\n",
      "Your kernel may have been built without NUMA support.\n",
      "2024-03-10 14:49:03.535585: I external/local_xla/xla/stream_executor/cuda/cuda_executor.cc:887] could not open file to read NUMA node: /sys/bus/pci/devices/0000:01:00.0/numa_node\n",
      "Your kernel may have been built without NUMA support.\n",
      "2024-03-10 14:49:03.535637: I external/local_xla/xla/stream_executor/cuda/cuda_executor.cc:887] could not open file to read NUMA node: /sys/bus/pci/devices/0000:01:00.0/numa_node\n",
      "Your kernel may have been built without NUMA support.\n",
      "2024-03-10 14:49:03.535665: I external/local_xla/xla/stream_executor/cuda/cuda_executor.cc:887] could not open file to read NUMA node: /sys/bus/pci/devices/0000:01:00.0/numa_node\n",
      "Your kernel may have been built without NUMA support.\n",
      "2024-03-10 14:49:03.669056: I external/local_xla/xla/stream_executor/cuda/cuda_executor.cc:887] could not open file to read NUMA node: /sys/bus/pci/devices/0000:01:00.0/numa_node\n",
      "Your kernel may have been built without NUMA support.\n",
      "2024-03-10 14:49:03.669141: I external/local_xla/xla/stream_executor/cuda/cuda_executor.cc:887] could not open file to read NUMA node: /sys/bus/pci/devices/0000:01:00.0/numa_node\n",
      "Your kernel may have been built without NUMA support.\n",
      "2024-03-10 14:49:03.669149: I tensorflow/core/common_runtime/gpu/gpu_device.cc:2022] Could not identify NUMA node of platform GPU id 0, defaulting to 0.  Your kernel may not have been built with NUMA support.\n",
      "2024-03-10 14:49:03.669185: I external/local_xla/xla/stream_executor/cuda/cuda_executor.cc:887] could not open file to read NUMA node: /sys/bus/pci/devices/0000:01:00.0/numa_node\n",
      "Your kernel may have been built without NUMA support.\n",
      "2024-03-10 14:49:03.669200: I tensorflow/core/common_runtime/gpu/gpu_device.cc:1929] Created device /job:localhost/replica:0/task:0/device:GPU:0 with 2246 MB memory:  -> device: 0, name: NVIDIA GeForce GTX 1650, pci bus id: 0000:01:00.0, compute capability: 7.5\n"
     ]
    }
   ],
   "source": [
    "import tensorflow as tf\n",
    "import matplotlib.pyplot as plt\n",
    "\n",
    "# Checks for available GPUs and lists them\n",
    "gpus = tf.config.experimental.list_physical_devices('GPU')\n",
    "if gpus:\n",
    "  try:\n",
    "    # Set TensorFlow to use only the first GPU\n",
    "    tf.config.experimental.set_visible_devices(gpus[0], 'GPU')\n",
    "    logical_gpus = tf.config.experimental.list_logical_devices('GPU')\n",
    "    print(len(gpus), \"Physical GPU,\", len(logical_gpus), \"Logical GPU\")\n",
    "  except RuntimeError as e:\n",
    "    # Visible devices must be set before GPUs have been initialized\n",
    "    print(e)"
   ]
  },
  {
   "cell_type": "code",
   "execution_count": 2,
   "metadata": {},
   "outputs": [],
   "source": [
    "# Load MNIST dataset\n",
    "mnist = tf.keras.datasets.mnist\n",
    "(x_train, y_train), (x_test, y_test) = mnist.load_data()\n",
    "\n",
    "# Normalize the data\n",
    "x_train, x_test = x_train / 255.0, x_test / 255.0\n"
   ]
  },
  {
   "cell_type": "code",
   "execution_count": 3,
   "metadata": {},
   "outputs": [],
   "source": [
    "# Reshape the data to include a channel dimension\n",
    "x_train = x_train.reshape((x_train.shape[0], 28, 28, 1))\n",
    "x_test = x_test.reshape((x_test.shape[0], 28, 28, 1))\n"
   ]
  },
  {
   "cell_type": "code",
   "execution_count": 4,
   "metadata": {},
   "outputs": [],
   "source": [
    "#Get dimentions of data\n",
    "_, a, b, c = x_train.shape"
   ]
  },
  {
   "cell_type": "code",
   "execution_count": 5,
   "metadata": {},
   "outputs": [
    {
     "name": "stderr",
     "output_type": "stream",
     "text": [
      "2024-03-10 14:49:04.237132: W external/local_tsl/tsl/framework/cpu_allocator_impl.cc:83] Allocation of 376320000 exceeds 10% of free system memory.\n",
      "2024-03-10 14:49:06.042958: W external/local_tsl/tsl/framework/cpu_allocator_impl.cc:83] Allocation of 376320000 exceeds 10% of free system memory.\n"
     ]
    }
   ],
   "source": [
    "# Convert the data to a TensorFlow dataset\n",
    "train_dataset = tf.data.Dataset.from_tensor_slices((x_train, y_train))\n",
    "\n",
    "# Define a function for data augmentation\n",
    "def augment(image, label):\n",
    "    image = tf.image.random_flip_left_right(image)\n",
    "    image = tf.image.random_contrast(image, lower=0.8, upper=1.2)\n",
    "    return image, label\n",
    "\n",
    "# Apply data augmentation to the training dataset\n",
    "train_dataset = train_dataset.map(augment)\n"
   ]
  },
  {
   "cell_type": "code",
   "execution_count": 6,
   "metadata": {},
   "outputs": [],
   "source": [
    "model = tf.keras.models.Sequential([\n",
    "    tf.keras.layers.Flatten(input_shape=(a,b,c)),\n",
    "    tf.keras.layers.Dense(128, activation='relu'),\n",
    "    tf.keras.layers.Dropout(0.2),\n",
    "    tf.keras.layers.Dense(10, activation='softmax')\n",
    "])\n",
    "\n",
    "model.compile(optimizer='adam', loss='sparse_categorical_crossentropy', metrics=['accuracy'])\n"
   ]
  },
  {
   "cell_type": "code",
   "execution_count": 7,
   "metadata": {},
   "outputs": [
    {
     "name": "stdout",
     "output_type": "stream",
     "text": [
      "Epoch 1/25\n"
     ]
    },
    {
     "name": "stderr",
     "output_type": "stream",
     "text": [
      "2024-03-10 14:49:11.668377: W external/local_tsl/tsl/framework/cpu_allocator_impl.cc:83] Allocation of 376320000 exceeds 10% of free system memory.\n",
      "2024-03-10 14:49:13.606766: I external/local_xla/xla/service/service.cc:168] XLA service 0x9d8b8a0 initialized for platform CUDA (this does not guarantee that XLA will be used). Devices:\n",
      "2024-03-10 14:49:13.606802: I external/local_xla/xla/service/service.cc:176]   StreamExecutor device (0): NVIDIA GeForce GTX 1650, Compute Capability 7.5\n",
      "2024-03-10 14:49:13.625409: I tensorflow/compiler/mlir/tensorflow/utils/dump_mlir_util.cc:269] disabling MLIR crash reproducer, set env var `MLIR_CRASH_REPRODUCER_DIRECTORY` to enable.\n",
      "2024-03-10 14:49:13.663724: I external/local_xla/xla/stream_executor/cuda/cuda_dnn.cc:454] Loaded cuDNN version 8904\n",
      "WARNING: All log messages before absl::InitializeLog() is called are written to STDERR\n",
      "I0000 00:00:1710074953.757364   66435 device_compiler.h:186] Compiled cluster using XLA!  This line is logged at most once for the lifetime of the process.\n"
     ]
    },
    {
     "name": "stdout",
     "output_type": "stream",
     "text": [
      "1875/1875 [==============================] - 12s 5ms/step - loss: 0.4451 - accuracy: 0.8661\n",
      "Epoch 2/25\n",
      "1875/1875 [==============================] - 10s 5ms/step - loss: 0.2486 - accuracy: 0.9255\n",
      "Epoch 3/25\n",
      "1875/1875 [==============================] - 11s 6ms/step - loss: 0.2024 - accuracy: 0.9386\n",
      "Epoch 4/25\n",
      "1875/1875 [==============================] - 11s 6ms/step - loss: 0.1748 - accuracy: 0.9469\n",
      "Epoch 5/25\n",
      "1875/1875 [==============================] - 11s 6ms/step - loss: 0.1572 - accuracy: 0.9516\n",
      "Epoch 6/25\n",
      "1875/1875 [==============================] - 11s 6ms/step - loss: 0.1460 - accuracy: 0.9549\n",
      "Epoch 7/25\n",
      "1875/1875 [==============================] - 10s 6ms/step - loss: 0.1388 - accuracy: 0.9571\n",
      "Epoch 8/25\n",
      "1875/1875 [==============================] - 10s 6ms/step - loss: 0.1316 - accuracy: 0.9587\n",
      "Epoch 9/25\n",
      "1875/1875 [==============================] - 10s 6ms/step - loss: 0.1244 - accuracy: 0.9612\n",
      "Epoch 10/25\n",
      "1875/1875 [==============================] - 10s 6ms/step - loss: 0.1190 - accuracy: 0.9623\n",
      "Epoch 11/25\n",
      "1875/1875 [==============================] - 10s 6ms/step - loss: 0.1120 - accuracy: 0.9643\n",
      "Epoch 12/25\n",
      "1875/1875 [==============================] - 11s 6ms/step - loss: 0.1091 - accuracy: 0.9655\n",
      "Epoch 13/25\n",
      "1875/1875 [==============================] - 11s 6ms/step - loss: 0.1064 - accuracy: 0.9653\n",
      "Epoch 14/25\n",
      "1875/1875 [==============================] - 11s 6ms/step - loss: 0.1044 - accuracy: 0.9670\n",
      "Epoch 15/25\n",
      "1875/1875 [==============================] - 10s 6ms/step - loss: 0.1009 - accuracy: 0.9672\n",
      "Epoch 16/25\n",
      "1875/1875 [==============================] - 11s 6ms/step - loss: 0.0959 - accuracy: 0.9691\n",
      "Epoch 17/25\n",
      "1875/1875 [==============================] - 11s 6ms/step - loss: 0.0972 - accuracy: 0.9694\n",
      "Epoch 18/25\n",
      "1875/1875 [==============================] - 11s 6ms/step - loss: 0.0920 - accuracy: 0.9698\n",
      "Epoch 19/25\n",
      "1875/1875 [==============================] - 10s 6ms/step - loss: 0.0912 - accuracy: 0.9697\n",
      "Epoch 20/25\n",
      "1875/1875 [==============================] - 10s 6ms/step - loss: 0.0883 - accuracy: 0.9710\n",
      "Epoch 21/25\n",
      "1875/1875 [==============================] - 10s 6ms/step - loss: 0.0844 - accuracy: 0.9721\n",
      "Epoch 22/25\n",
      "1875/1875 [==============================] - 10s 6ms/step - loss: 0.0859 - accuracy: 0.9721\n",
      "Epoch 23/25\n",
      "1875/1875 [==============================] - 10s 6ms/step - loss: 0.0826 - accuracy: 0.9728\n",
      "Epoch 24/25\n",
      "1875/1875 [==============================] - 10s 6ms/step - loss: 0.0788 - accuracy: 0.9743\n",
      "Epoch 25/25\n",
      "1875/1875 [==============================] - 10s 6ms/step - loss: 0.0777 - accuracy: 0.9748\n"
     ]
    },
    {
     "data": {
      "image/png": "[encoded data removed]",
      "text/plain": [
       "<Figure size 640x480 with 1 Axes>"
      ]
     },
     "metadata": {},
     "output_type": "display_data"
    },
    {
     "name": "stdout",
     "output_type": "stream",
     "text": [
      "  1/313 [..............................] - ETA: 37s - loss: 0.0168 - accuracy: 1.0000"
     ]
    },
    {
     "name": "stderr",
     "output_type": "stream",
     "text": [
      "2024-03-10 14:53:36.523587: W external/local_tsl/tsl/framework/cpu_allocator_impl.cc:83] Allocation of 31360000 exceeds 10% of free system memory.\n",
      "2024-03-10 14:53:36.588080: W external/local_tsl/tsl/framework/cpu_allocator_impl.cc:83] Allocation of 31360000 exceeds 10% of free system memory.\n"
     ]
    },
    {
     "name": "stdout",
     "output_type": "stream",
     "text": [
      "313/313 [==============================] - 1s 3ms/step - loss: 0.1157 - accuracy: 0.9684\n"
     ]
    },
    {
     "data": {
      "text/plain": [
       "[0.1156969964504242, 0.9684000015258789]"
      ]
     },
     "execution_count": 7,
     "metadata": {},
     "output_type": "execute_result"
    }
   ],
   "source": [
    "# Lists to store accuracy values for plotting\n",
    "history = model.fit(train_dataset.batch(32), epochs=25)\n",
    "\n",
    "# Plot accuracy per epoch\n",
    "plt.plot(history.history['accuracy'])\n",
    "plt.title('Model Accuracy')\n",
    "plt.xlabel('Epoch')\n",
    "plt.ylabel('Accuracy')\n",
    "plt.show()\n",
    "\n",
    "# Evaluate the model on the test data\n",
    "model.evaluate(x_test, y_test)\n"
   ]
  }
 ],
 "metadata": {
  "kernelspec": {
   "display_name": "venv",
   "language": "python",
   "name": "python3"
  },
  "language_info": {
   "codemirror_mode": {
    "name": "ipython",
    "version": 3
   },
   "file_extension": ".py",
   "mimetype": "text/x-python",
   "name": "python",
   "nbconvert_exporter": "python",
   "pygments_lexer": "ipython3",
   "version": "3.10.9"
  }
 },
 "nbformat": 4,
 "nbformat_minor": 2
}
