{
 "cells": [
  {
   "cell_type": "code",
   "execution_count": null,
   "metadata": {},
   "outputs": [],
   "source": [
    "!pip install -r requirements.txt"
   ]
  },
  {
   "cell_type": "code",
   "execution_count": 1,
   "metadata": {},
   "outputs": [
    {
     "name": "stderr",
     "output_type": "stream",
     "text": [
      "d:\\projects\\jupiter_test\\venv\\lib\\site-packages\\tensorflow_addons\\utils\\tfa_eol_msg.py:23: UserWarning: \n",
      "\n",
      "TensorFlow Addons (TFA) has ended development and introduction of new features.\n",
      "TFA has entered a minimal maintenance and release mode until a planned end of life in May 2024.\n",
      "Please modify downstream libraries to take dependencies from other repositories in our TensorFlow community (e.g. Keras, Keras-CV, and Keras-NLP). \n",
      "\n",
      "For more information see: https://github.com/tensorflow/addons/issues/2807 \n",
      "\n",
      "  warnings.warn(\n"
     ]
    }
   ],
   "source": [
    "from tensorflow.keras.preprocessing.image import ImageDataGenerator\n",
    "from tensorflow.keras.preprocessing import image\n",
    "# from tensorflow.keras.applications import VGG16,ResNet152V2\n",
    "from tensorflow.keras.callbacks import EarlyStopping,Callback\n",
    "from tensorflow.keras import models, layers, regularizers\n",
    "from tensorflow.keras.models import load_model\n",
    "from tensorflow.python.keras import backend as K\n",
    "from tensorflow.python.util.tf_export import keras_export\n",
    "from tensorflow_addons.optimizers import AdamW\n",
    "from tensorflow.keras.optimizers import Adam\n",
    "import tensorflow as tf\n",
    "import pickle\n",
    "from PIL import Image\n",
    "import numpy as np\n",
    "import matplotlib.pyplot as plt\n",
    "import matplotlib.image as mpimg\n",
    "from sklearn.metrics import classification_report, confusion_matrix\n",
    "import os\n",
    "import math\n",
    "Image.MAX_IMAGE_PIXELS = None  \n",
    "import warnings\n",
    "warnings.filterwarnings('ignore')\n",
    "import pandas as pd\n",
    "from transformers import AutoTokenizer, BertTokenizer, TFBertForSequenceClassification, DistilBertTokenizer, TFDistilBertForSequenceClassification\n",
    "from transformers import TrainingArguments, Trainer\n",
    "from sklearn.preprocessing import LabelEncoder"
   ]
  },
  {
   "cell_type": "code",
   "execution_count": 2,
   "metadata": {},
   "outputs": [
    {
     "name": "stdout",
     "output_type": "stream",
     "text": [
      "1 Physical GPU, 1 Logical GPU\n"
     ]
    }
   ],
   "source": [
    "tf.config.optimizer.set_jit(True)  ##ONLY FOR CUDA\n",
    "\n",
    "\n",
    "# Checks for available GPUs and lists them\n",
    "gpus = tf.config.experimental.list_physical_devices('GPU')\n",
    "\n",
    "if gpus:\n",
    "  try:\n",
    "    # Set TensorFlow to use only the first GPU\n",
    "    tf.config.experimental.set_visible_devices(gpus[0], 'GPU')\n",
    "    logical_gpus = tf.config.experimental.list_logical_devices('GPU')\n",
    "    print(len(gpus), \"Physical GPU,\", len(logical_gpus), \"Logical GPU\")\n",
    "  except RuntimeError as e:\n",
    "    # Visible devices must be set before GPUs have been initialized\n",
    "    print(e)\n"
   ]
  },
  {
   "cell_type": "code",
   "execution_count": 1,
   "metadata": {},
   "outputs": [
    {
     "name": "stdout",
     "output_type": "stream",
     "text": [
      "==> ./dataset/train.txt <==\n",
      "i feel really glad that i dont look like the celebrities out there that are so beautiful she told dr;joy\n",
      "i have wanted to perhaps convey my feelings of a matter instead of my thoughts and have rejected it because i have thought feelings in the matter irrelevant;sadness\n",
      "i moved away he said something that made me feel violent but its something i still cant make out;anger\n",
      "i most days feel like if braeden and calvin are happy then it has been a successful day;joy\n",
      "i feel so sympathetic empathetic towards them;love\n",
      "i just had a very brief time in the beanbag and i said to anna that i feel like i have been beaten up;sadness\n",
      "i am now turning and i feel pathetic that i am still waiting tables and subbing with a teaching degree;sadness\n",
      "i feel strong and good overall;joy\n",
      "i feel like this was such a rude comment and im glad that t;anger\n",
      "i know a lot but i feel so stupid because i can not portray it;sadness\n"
     ]
    },
    {
     "name": "stderr",
     "output_type": "stream",
     "text": [
      "tail: cannot open '10' for reading: No such file or directory\n"
     ]
    }
   ],
   "source": [
    "!tail 10 ./dataset/train.txt"
   ]
  },
  {
   "cell_type": "code",
   "execution_count": 3,
   "metadata": {},
   "outputs": [],
   "source": [
    "df_train = pd.read_csv(\"./dataset/train.txt\", sep=\";\", header=None, names=['Text', 'Emotion'])\n",
    "df_test = pd.read_csv(\"./dataset/test.txt\", sep=\";\", header=None, names=['Text', 'Emotion'])\n",
    "df_val = pd.read_csv(\"./dataset/val.txt\", sep=\";\", header=None, names=['Text', 'Emotion'])\n",
    "\n",
    "\n",
    "emotions = df_train['Emotion'].unique().tolist()\n"
   ]
  },
  {
   "cell_type": "code",
   "execution_count": 4,
   "metadata": {},
   "outputs": [
    {
     "name": "stderr",
     "output_type": "stream",
     "text": [
      "Some layers from the model checkpoint at distilbert/distilbert-base-uncased were not used when initializing TFDistilBertForSequenceClassification: ['activation_13', 'vocab_transform', 'vocab_layer_norm', 'vocab_projector']\n",
      "- This IS expected if you are initializing TFDistilBertForSequenceClassification from the checkpoint of a model trained on another task or with another architecture (e.g. initializing a BertForSequenceClassification model from a BertForPreTraining model).\n",
      "- This IS NOT expected if you are initializing TFDistilBertForSequenceClassification from the checkpoint of a model that you expect to be exactly identical (initializing a BertForSequenceClassification model from a BertForSequenceClassification model).\n",
      "Some layers of TFDistilBertForSequenceClassification were not initialized from the model checkpoint at distilbert/distilbert-base-uncased and are newly initialized: ['classifier', 'dropout_19', 'pre_classifier']\n",
      "You should probably TRAIN this model on a down-stream task to be able to use it for predictions and inference.\n"
     ]
    }
   ],
   "source": [
    "model_name = \"distilbert/distilbert-base-uncased\"\n",
    "tokenizer = DistilBertTokenizer.from_pretrained(model_name)\n",
    "model = TFDistilBertForSequenceClassification.from_pretrained(model_name, num_labels=len(emotions))"
   ]
  },
  {
   "cell_type": "code",
   "execution_count": 5,
   "metadata": {},
   "outputs": [],
   "source": [
    "def tokenize_text(text):\n",
    "    return tokenizer(text,\n",
    "                     padding='max_length',\n",
    "                     truncation=True,\n",
    "                     max_length=128)\n",
    "\n",
    "tokenized_text_train = df_train['Text'].apply(tokenize_text)\n",
    "tokenized_text_test = df_test['Text'].apply(tokenize_text)\n",
    "tokenized_text_val = df_val['Text'].apply(tokenize_text)"
   ]
  },
  {
   "cell_type": "code",
   "execution_count": 6,
   "metadata": {},
   "outputs": [],
   "source": [
    "def extract_features(series):\n",
    "    input_ids = np.array([item['input_ids'] for item in series])\n",
    "    attention_mask = np.array([item['attention_mask'] for item in series])\n",
    "    return {'input_ids': input_ids, 'attention_mask': attention_mask}\n",
    "\n",
    "tokenized_train_np = extract_features(tokenized_text_train)\n",
    "tokenized_test_np = extract_features(tokenized_text_test)\n",
    "tokenized_val_np = extract_features(tokenized_text_val)"
   ]
  },
  {
   "cell_type": "code",
   "execution_count": 7,
   "metadata": {},
   "outputs": [],
   "source": [
    "y_train = df_train['Emotion']\n",
    "y_test = df_test['Emotion']\n",
    "y_val = df_val['Emotion']\n",
    "\n",
    "label_encoder = LabelEncoder()\n",
    "label_encoder.fit(emotions)\n",
    "\n",
    "y_train = tf.keras.utils.to_categorical(label_encoder.transform(y_train), num_classes=len(emotions))\n",
    "y_test = tf.keras.utils.to_categorical(label_encoder.transform(y_test), num_classes=len(emotions))\n",
    "y_val = tf.keras.utils.to_categorical(label_encoder.transform(y_val), num_classes=len(emotions))\n",
    "\n",
    "emotions = ['anger', 'fear', 'joy', 'love', 'sadness', 'surprise']"
   ]
  },
  {
   "cell_type": "code",
   "execution_count": 8,
   "metadata": {},
   "outputs": [],
   "source": [
    "def plot_learning_curve(history, figsize=(10, 5)):\n",
    "    fig, axs = plt.subplots(1, 2, figsize=figsize)\n",
    "\n",
    "    axs[0].plot(history.history['accuracy'], color='#b8113d')\n",
    "    axs[0].plot(history.history['val_accuracy'], color='#6010b5')\n",
    "    axs[0].set_title('Model accuracy')\n",
    "    axs[0].set_ylabel('Accuracy')\n",
    "    axs[0].set_xlabel('Epoch')\n",
    "    axs[0].legend(['Train', 'Validation'], loc='upper left')\n",
    "\n",
    "    axs[1].plot(history.history['loss'], color='#b8113d')\n",
    "    axs[1].plot(history.history['val_loss'], color='#6010b5')\n",
    "    axs[1].set_title('Model loss')\n",
    "    axs[1].set_ylabel('Loss')\n",
    "    axs[1].set_xlabel('Epoch')\n",
    "    axs[1].legend(['Train', 'Validation'], loc='upper left')\n",
    "\n",
    "    plt.show()\n",
    "\n",
    "def plot_confusion_matrix(y_test, y_pred):\n",
    "  cm = confusion_matrix(y_test, y_pred)\n",
    "\n",
    "  plt.figure(figsize=(8, 6))\n",
    "  plt.xlabel('Predicted labels')\n",
    "  plt.ylabel('True labels')\n",
    "  plt.title('Confusion Matrix')\n",
    "  plt.show()"
   ]
  },
  {
   "cell_type": "code",
   "execution_count": 9,
   "metadata": {},
   "outputs": [],
   "source": [
    "batch_size = 8\n",
    "\n",
    "train_ds = tf.data.Dataset.from_tensor_slices((tokenized_train_np, y_train)).shuffle(len(df_train)).batch(batch_size)\n",
    "test_ds = tf.data.Dataset.from_tensor_slices((tokenized_test_np, y_test)).shuffle(len(df_test)).batch(batch_size)\n",
    "val_ds = tf.data.Dataset.from_tensor_slices((tokenized_val_np, y_val)).shuffle(len(df_val)).batch(batch_size)"
   ]
  },
  {
   "cell_type": "code",
   "execution_count": 10,
   "metadata": {},
   "outputs": [
    {
     "name": "stdout",
     "output_type": "stream",
     "text": [
      "Epoch 1/5\n",
      "2000/2000 [==============================] - 235s 112ms/step - loss: 8.1877 - accuracy: 0.1231 - val_loss: 8.0832 - val_accuracy: 0.1060\n",
      "Epoch 2/5\n",
      "2000/2000 [==============================] - 187s 93ms/step - loss: 8.1889 - accuracy: 0.1211 - val_loss: 8.0832 - val_accuracy: 0.1060\n",
      "Epoch 3/5\n",
      "2000/2000 [==============================] - 186s 93ms/step - loss: nan - accuracy: 0.1175 - val_loss: nan - val_accuracy: 0.0405\n"
     ]
    }
   ],
   "source": [
    "optimizer=AdamW(weight_decay=0.2, learning_rate=3e-4, beta_1=0.99)\n",
    "# optimizer = AdamW(weight_decay=0.01, learning_rate=1e-4, beta_1=0.99, clipvalue=1.0)\n",
    "model.compile(\n",
    "    optimizer=optimizer,\n",
    "    loss='categorical_crossentropy',\n",
    "    metrics=['accuracy']\n",
    ")\n",
    "\n",
    "history = model.fit(\n",
    "    train_ds,\n",
    "    epochs = 5,\n",
    "    # batch_size = 16,\n",
    "    validation_data = val_ds,\n",
    "    callbacks = [tf.keras.callbacks.EarlyStopping(patience=2)]\n",
    ")"
   ]
  },
  {
   "cell_type": "markdown",
   "metadata": {},
   "source": [
    "Loss:nan??????"
   ]
  },
  {
   "cell_type": "code",
   "execution_count": 15,
   "metadata": {},
   "outputs": [],
   "source": [
    "model.save_weights('./model.keras')"
   ]
  },
  {
   "cell_type": "code",
   "execution_count": 39,
   "metadata": {},
   "outputs": [],
   "source": [
    "model.load_weights('./model.keras')"
   ]
  },
  {
   "cell_type": "code",
   "execution_count": 13,
   "metadata": {},
   "outputs": [
    {
     "name": "stdout",
     "output_type": "stream",
     "text": [
      "250/250 [==============================] - 4s 17ms/step\n",
      "Shape of y_pred: (2000,)\n"
     ]
    }
   ],
   "source": [
    "y_test = np.array([label for _, label in test_ds.unbatch()])\n",
    "\n",
    "pred_logits = model.predict(test_ds).logits\n",
    "y_pred = tf.argmax(pred_logits, axis=1).numpy()\n",
    "\n",
    "y_test_int = np.argmax(y_test, axis=1)\n",
    "\n",
    "print(\"Shape of y_pred:\", y_pred.shape)"
   ]
  },
  {
   "cell_type": "code",
   "execution_count": 18,
   "metadata": {},
   "outputs": [
    {
     "data": {
      "text/plain": [
       "array([[nan, nan, nan, nan, nan, nan],\n",
       "       [nan, nan, nan, nan, nan, nan],\n",
       "       [nan, nan, nan, nan, nan, nan],\n",
       "       ...,\n",
       "       [nan, nan, nan, nan, nan, nan],\n",
       "       [nan, nan, nan, nan, nan, nan],\n",
       "       [nan, nan, nan, nan, nan, nan]], dtype=float32)"
      ]
     },
     "execution_count": 18,
     "metadata": {},
     "output_type": "execute_result"
    }
   ],
   "source": [
    "pred_logits"
   ]
  },
  {
   "cell_type": "code",
   "execution_count": 14,
   "metadata": {},
   "outputs": [
    {
     "name": "stdout",
     "output_type": "stream",
     "text": [
      "Classification Report:\n",
      "              precision    recall  f1-score   support\n",
      "\n",
      "           0       0.14      1.00      0.24       275\n",
      "           1       1.00      0.00      0.00       224\n",
      "           2       1.00      0.00      0.00       695\n",
      "           3       1.00      0.00      0.00       159\n",
      "           4       1.00      0.00      0.00       581\n",
      "           5       1.00      0.00      0.00        66\n",
      "\n",
      "    accuracy                           0.14      2000\n",
      "   macro avg       0.86      0.17      0.04      2000\n",
      "weighted avg       0.88      0.14      0.03      2000\n",
      "\n"
     ]
    },
    {
     "data": {
      "image/png": "[encoded data removed]",
      "text/plain": [
       "<Figure size 800x600 with 1 Axes>"
      ]
     },
     "metadata": {},
     "output_type": "display_data"
    }
   ],
   "source": [
    "if len(y_pred.shape) == 1:\n",
    "    y_pred_int = y_pred\n",
    "else:\n",
    "    y_pred_int = np.argmax(y_pred, axis=1)\n",
    "\n",
    "print(\"Classification Report:\")\n",
    "print(classification_report(y_test_int, y_pred_int, zero_division=1))\n",
    "\n",
    "plot_confusion_matrix(y_test_int, y_pred_int)"
   ]
  }
 ],
 "metadata": {
  "kernelspec": {
   "display_name": "venv",
   "language": "python",
   "name": "python3"
  },
  "language_info": {
   "codemirror_mode": {
    "name": "ipython",
    "version": 3
   },
   "file_extension": ".py",
   "mimetype": "text/x-python",
   "name": "python",
   "nbconvert_exporter": "python",
   "pygments_lexer": "ipython3",
   "version": "3.9.13"
  }
 },
 "nbformat": 4,
 "nbformat_minor": 2
}
