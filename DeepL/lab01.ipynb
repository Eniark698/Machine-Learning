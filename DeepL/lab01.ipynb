{
 "cells": [
  {
   "cell_type": "code",
   "execution_count": 12,
   "metadata": {},
   "outputs": [],
   "source": [
    "import tensorflow as tf\n",
    "import tensorflow.keras as keras\n",
    "import tensorflow.keras.layers as layers\n",
    "import numpy as np\n",
    "import matplotlib.pyplot as plt"
   ]
  },
  {
   "cell_type": "code",
   "execution_count": 2,
   "metadata": {},
   "outputs": [
    {
     "name": "stdout",
     "output_type": "stream",
     "text": [
      "Downloading data from https://www.cs.toronto.edu/~kriz/cifar-10-python.tar.gz\n",
      "170498071/170498071 [==============================] - 113s 1us/step\n"
     ]
    }
   ],
   "source": [
    "(x_train, y_train), (x_test, y_test) = tf.keras.datasets.cifar10.load_data()\n"
   ]
  },
  {
   "cell_type": "code",
   "execution_count": 3,
   "metadata": {},
   "outputs": [
    {
     "data": {
      "text/plain": [
       "(50000, 1)"
      ]
     },
     "execution_count": 3,
     "metadata": {},
     "output_type": "execute_result"
    }
   ],
   "source": [
    "x_train.shape # (50000, 32, 32, 3)\n",
    "y_train.shape # (50000, 1)"
   ]
  },
  {
   "cell_type": "code",
   "execution_count": 6,
   "metadata": {},
   "outputs": [],
   "source": [
    "x_train = x_train.astype('float') / 255\n",
    "x_test = x_test.astype('float') / 255"
   ]
  },
  {
   "cell_type": "code",
   "execution_count": 8,
   "metadata": {},
   "outputs": [
    {
     "name": "stdout",
     "output_type": "stream",
     "text": [
      "{0: 'airplane', 1: 'automobile', 2: 'bird', 3: 'cat', 4: 'deer', 5: 'dog', 6: 'frog', 7: 'horse', 8: 'ship', 9: 'truck'}\n"
     ]
    }
   ],
   "source": [
    "id2class = {\n",
    "    idx: name for idx, name in enumerate([\n",
    "        'airplane', 'automobile', 'bird',\n",
    "        'cat', 'deer', 'dog', 'frog',\n",
    "        'horse', 'ship', 'truck'\n",
    "    ])\n",
    "}\n",
    "print(id2class)"
   ]
  },
  {
   "cell_type": "code",
   "execution_count": 19,
   "metadata": {},
   "outputs": [],
   "source": [
    "def display_cifar_images(\n",
    "    x: np.ndarray,\n",
    "    y: np.ndarray,\n",
    "    id2class: dict[int, str],\n",
    "    n: int = 4\n",
    "):\n",
    "    random_images_indices = np.random.randint(0, x.shape[0], n)\n",
    "    images = x[random_images_indices]\n",
    "    classes = [id2class[y[idx, 0]] for idx in random_images_indices]\n",
    "\n",
    "\n",
    "    f, axs = plt.subplots(1, n, figsize=((3*n, 3)))\n",
    "    for image, name, ax in zip(images, classes, axs):\n",
    "        ax.imshow(image)\n",
    "        ax.axis('off')\n",
    "        ax.set(title=f\"Class: {name}\")\n",
    "    plt.show()"
   ]
  },
  {
   "cell_type": "code",
   "execution_count": 1,
   "metadata": {},
   "outputs": [
    {
     "ename": "NameError",
     "evalue": "name 'display_cifar_images' is not defined",
     "output_type": "error",
     "traceback": [
      "\u001b[0;31m---------------------------------------------------------------------------\u001b[0m",
      "\u001b[0;31mNameError\u001b[0m                                 Traceback (most recent call last)",
      "Cell \u001b[0;32mIn[1], line 1\u001b[0m\n\u001b[0;32m----> 1\u001b[0m \u001b[43mdisplay_cifar_images\u001b[49m(x_train, y_train, id2class)\n",
      "\u001b[0;31mNameError\u001b[0m: name 'display_cifar_images' is not defined"
     ]
    }
   ],
   "source": [
    "display_cifar_images(x_train, y_train, id2class)"
   ]
  },
  {
   "cell_type": "code",
   "execution_count": 24,
   "metadata": {},
   "outputs": [],
   "source": [
    "class NNClassifier(tf.keras.Model):\n",
    "    \"\"\"Image classifier with fully-connected layers\"\"\"\n",
    "    def __init__(self, hidden_dim: int, n_classes: int, *args, **kwargs):\n",
    "        super(NNClassifier, self).__init__(*args, **kwargs) # ініціалізація супер класу є обов'язкова!\n",
    "\n",
    "\n",
    "        self.flatten = tf.keras.layers.Flatten()\n",
    "        self.dense1 = tf.keras.layers.Dense(units=hidden_dim, activation='relu')\n",
    "        self.dense2 = tf.keras.layers.Dense(units=hidden_dim, activation='relu')\n",
    "        self.out = tf.keras.layers.Dense(n_classes) # можна додати activation = 'softmax'\n",
    "\n",
    "    def call(self, inputs, training: bool):\n",
    "        x = self.flatten(inputs)\n",
    "        x = self.dense2(self.dense1(x))\n",
    "        return self.out(x)\n",
    "\n",
    "model = NNClassifier(hidden_dim=100, n_classes=len(id2class))\n"
   ]
  },
  {
   "cell_type": "code",
   "execution_count": 25,
   "metadata": {},
   "outputs": [
    {
     "name": "stderr",
     "output_type": "stream",
     "text": [
      "WARNING:absl:At this time, the v2.11+ optimizer `tf.keras.optimizers.SGD` runs slowly on M1/M2 Macs, please use the legacy Keras optimizer instead, located at `tf.keras.optimizers.legacy.SGD`.\n"
     ]
    }
   ],
   "source": [
    "model.compile(\n",
    "    optimizer=tf.keras.optimizers.SGD(learning_rate=1e-3, momentum=0.9),\n",
    "    # спарс версія оскільки y_train та y_test містять номери класів\n",
    "    loss=tf.keras.losses.SparseCategoricalCrossentropy(from_logits=True),\n",
    "    metrics=['accuracy']\n",
    ")\n"
   ]
  },
  {
   "cell_type": "code",
   "execution_count": 28,
   "metadata": {},
   "outputs": [
    {
     "name": "stdout",
     "output_type": "stream",
     "text": [
      "Epoch 1/3\n",
      "391/391 [==============================] - 2s 6ms/step - loss: 1.8812 - accuracy: 0.3338 - val_loss: 1.8538 - val_accuracy: 0.3449\n",
      "Epoch 2/3\n",
      "391/391 [==============================] - 2s 5ms/step - loss: 1.8351 - accuracy: 0.3545 - val_loss: 1.8229 - val_accuracy: 0.3629\n",
      "Epoch 3/3\n",
      "391/391 [==============================] - 2s 5ms/step - loss: 1.8113 - accuracy: 0.3680 - val_loss: 1.7971 - val_accuracy: 0.3707\n"
     ]
    }
   ],
   "source": [
    "hist = model.fit(\n",
    "    x=x_train,\n",
    "    y=y_train,\n",
    "    epochs=3,\n",
    "    batch_size=128,\n",
    "    validation_data=(x_test, y_test)\n",
    ")\n"
   ]
  },
  {
   "cell_type": "code",
   "execution_count": 29,
   "metadata": {},
   "outputs": [
    {
     "name": "stdout",
     "output_type": "stream",
     "text": [
      "Model: \"nn_classifier_2\"\n",
      "_________________________________________________________________\n",
      " Layer (type)                Output Shape              Param #   \n",
      "=================================================================\n",
      " flatten_2 (Flatten)         multiple                  0         \n",
      "                                                                 \n",
      " dense_6 (Dense)             multiple                  307300    \n",
      "                                                                 \n",
      " dense_7 (Dense)             multiple                  10100     \n",
      "                                                                 \n",
      " dense_8 (Dense)             multiple                  1010      \n",
      "                                                                 \n",
      "=================================================================\n",
      "Total params: 318410 (1.21 MB)\n",
      "Trainable params: 318410 (1.21 MB)\n",
      "Non-trainable params: 0 (0.00 Byte)\n",
      "_________________________________________________________________\n"
     ]
    }
   ],
   "source": [
    "model.summary()"
   ]
  },
  {
   "cell_type": "code",
   "execution_count": 30,
   "metadata": {},
   "outputs": [
    {
     "data": {
      "text/plain": [
       "{'loss': [1.8812212944030762, 1.8351383209228516, 1.8113430738449097],\n",
       " 'accuracy': [0.3338199853897095, 0.3545199930667877, 0.3679800033569336],\n",
       " 'val_loss': [1.8537545204162598, 1.822855830192566, 1.7971023321151733],\n",
       " 'val_accuracy': [0.3449000120162964, 0.3628999888896942, 0.37070000171661377]}"
      ]
     },
     "execution_count": 30,
     "metadata": {},
     "output_type": "execute_result"
    }
   ],
   "source": [
    "hist.history"
   ]
  },
  {
   "cell_type": "code",
   "execution_count": 32,
   "metadata": {},
   "outputs": [
    {
     "name": "stdout",
     "output_type": "stream",
     "text": [
      "313/313 [==============================] - 1s 3ms/step - loss: 1.7971 - accuracy: 0.3707\n"
     ]
    },
    {
     "data": {
      "text/plain": [
       "(1.7971025705337524, 0.37070000171661377)"
      ]
     },
     "execution_count": 32,
     "metadata": {},
     "output_type": "execute_result"
    }
   ],
   "source": [
    "test_loss, test_acc = model.evaluate(x_test, y_test)\n",
    "test_loss, test_acc"
   ]
  }
 ],
 "metadata": {
  "kernelspec": {
   "display_name": "venv",
   "language": "python",
   "name": "python3"
  },
  "language_info": {
   "codemirror_mode": {
    "name": "ipython",
    "version": 3
   },
   "file_extension": ".py",
   "mimetype": "text/x-python",
   "name": "python",
   "nbconvert_exporter": "python",
   "pygments_lexer": "ipython3",
   "version": "3.11.7"
  }
 },
 "nbformat": 4,
 "nbformat_minor": 2
}
