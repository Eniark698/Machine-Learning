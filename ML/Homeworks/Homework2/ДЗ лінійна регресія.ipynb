{
 "cells": [
  {
   "cell_type": "code",
   "execution_count": 1,
   "metadata": {
    "ExecuteTime": {
     "end_time": "2022-07-03T19:39:20.453536Z",
     "start_time": "2022-07-03T19:39:18.951409Z"
    }
   },
   "outputs": [],
   "source": [
    "import numpy as np\n",
    "import matplotlib.pyplot as plt\n",
    "import copy\n",
    "import math\n",
    "import pandas as pd\n",
    "%matplotlib inline"
   ]
  },
  {
   "cell_type": "markdown",
   "metadata": {},
   "source": [
    "# Задача\n",
    "\n",
    "Нам потрібно оцінити наскільки високий буде пробуток, якщо ми відкриємо ресторан у певному місті. Для цього ми маємо датасет, в якому кожен рядок це одне місто, відповідно ознака `X` це популяція, а залежна (прогнозована) змінна `y` це прибуток. \n",
    "\n",
    "- дописати суть ноутбуку"
   ]
  },
  {
   "cell_type": "markdown",
   "metadata": {},
   "source": [
    "### Завантажимо дані й подивимось на них\n",
    "\n",
    "`x_train` - це популяція, але поділена на 10000, тобто 6.1101 - 61101 людина <br>\n",
    "`y_train` - це середній щомісячний прибуток, але поділений на 10000, тобто 17.592 - 175920 доларів (прибуток може бути відємним)"
   ]
  },
  {
   "cell_type": "code",
   "execution_count": 2,
   "metadata": {
    "ExecuteTime": {
     "end_time": "2022-07-03T19:39:20.467992Z",
     "start_time": "2022-07-03T19:39:20.455896Z"
    }
   },
   "outputs": [
    {
     "data": {
      "text/plain": [
       "array([6.1101, 5.5277, 8.5186, 7.0032, 5.8598])"
      ]
     },
     "execution_count": 2,
     "metadata": {},
     "output_type": "execute_result"
    }
   ],
   "source": [
    "data = pd.read_csv('ex1data1.txt', sep=\",\", header=None, names = ['population', 'profit'])\n",
    "\n",
    "x_train = np.array(data['population'])\n",
    "y_train = np.array(data['profit'])\n",
    " \n",
    "x_train[:5]"
   ]
  },
  {
   "cell_type": "code",
   "execution_count": 3,
   "metadata": {
    "ExecuteTime": {
     "end_time": "2022-07-03T19:39:20.474187Z",
     "start_time": "2022-07-03T19:39:20.470664Z"
    }
   },
   "outputs": [
    {
     "name": "stdout",
     "output_type": "stream",
     "text": [
      "The shape of x_train is: (97,)\n",
      "The shape of y_train is:  (97,)\n",
      "Number of training examples (m): 97\n"
     ]
    }
   ],
   "source": [
    "print ('The shape of x_train is:', x_train.shape)\n",
    "print ('The shape of y_train is: ', y_train.shape)\n",
    "print ('Number of training examples (m):', len(x_train))"
   ]
  },
  {
   "cell_type": "markdown",
   "metadata": {},
   "source": [
    "### Візуалізуємо дані\n",
    "\n",
    "Так як в нас двовимірні дані, дуже зручно буде їх візуалізувати, та пидвитися як вони розміщені."
   ]
  },
  {
   "cell_type": "code",
   "execution_count": 4,
   "metadata": {
    "ExecuteTime": {
     "end_time": "2022-07-03T19:39:20.629417Z",
     "start_time": "2022-07-03T19:39:20.476034Z"
    }
   },
   "outputs": [
    {
     "data": {
      "image/png": "[encoded data removed]",
      "text/plain": [
       "<Figure size 640x480 with 1 Axes>"
      ]
     },
     "metadata": {},
     "output_type": "display_data"
    }
   ],
   "source": [
    "plt.scatter(x_train, y_train, marker='x', c='r') \n",
    "\n",
    "# Set the title\n",
    "plt.title(\"Прибуток vs. Популяція\")\n",
    "# Set the y-axis label\n",
    "plt.ylabel('Прибуток в $10,000')\n",
    "# Set the x-axis label\n",
    "plt.xlabel('Популяція міста в 10,000')\n",
    "plt.show()"
   ]
  },
  {
   "cell_type": "markdown",
   "metadata": {},
   "source": [
    "Виглядає що ці дані мають лінійну залежність, хоч і бувають декілкьа викидів. Лінійна регресія мала б впоратися з завданням передбачення який буде прибуток в залежності від популяціії"
   ]
  },
  {
   "cell_type": "markdown",
   "metadata": {},
   "source": [
    "<a name=\"4\"></a>\n",
    "## Linear regression\n",
    "\n",
    "У цьому ноутбуці ви побудуєте та натренуєте лінійну регресію, знайшовший найкращі параметри $(w,b)$ для ваших даних.\n",
    "- Функція лінійної регресії яка переводить `x` (популяцію) в `y` (прибуток)\n",
    "    $$f_{w,b}(x) = wx + b$$\n",
    "    \n",
    "\n",
    "- Для побудови алгоритму лінійної регресії вам потрібно найти найкращі параметри $(w,b)$, а для цього потрібно:\n",
    "\n",
    "    - Реалізувати порівняння, як одні параметри $(w,b)$ кращі чи гірші по відношенню до інших. Для цього потрібна функція втрат $J(w,b)$\n",
    "  \n",
    "        - Найкращі $(w,b)$ - це ті які дают ьвмм найменше значння $J(w,b)$.\n",
    "    \n",
    "    - Рeалізувати  **gradient descent** для пошуку найменшого $J(w,b). \n",
    "    \n",
    "        - Кожен крок градієнтного спуску ваші параметри $(w,b)$ мають наближатися до мінімального значення $J(w,b)$.\n",
    "  \n",
    "\n",
    "- Також потрібно реалізувати передбачення, щоб ви могли передати моделі значення $x$ і вона повернула вам $f_{w,b}(x)$ (прогнозований прибуток."
   ]
  },
  {
   "cell_type": "markdown",
   "metadata": {},
   "source": [
    "# Задача 1 - функція втрат"
   ]
  },
  {
   "cell_type": "markdown",
   "metadata": {},
   "source": [
    "## Compute Cost\n",
    "\n",
    "#### Cost function\n",
    "З лекції ви памятаєте, що функція втрат $J(w,b)$ задаєтсья наступною формулою\n",
    "\n",
    "$$J(w,b) = \\frac{1}{2m} \\sum\\limits_{i = 0}^{m-1} (f_{w,b}(x^{(i)}) - y^{(i)})^2$$ \n",
    "\n",
    "- $f_{w,b}(x^{(i)})$ - це передбачення моделі, а  $y^{(i)}$ - це реаьне значення в даних.\n",
    "- $m$ кількість даних в датасеті"
   ]
  },
  {
   "cell_type": "code",
   "execution_count": 7,
   "metadata": {
    "ExecuteTime": {
     "end_time": "2022-07-03T19:39:20.634149Z",
     "start_time": "2022-07-03T19:39:20.631530Z"
    }
   },
   "outputs": [],
   "source": [
    "def compute_cost(x, y, w, b): \n",
    "\n",
    "    \"\"\"    \n",
    "    Args:\n",
    "        x (ndarray): Shape (m,) Input to the model (Population of cities) \n",
    "        y (ndarray): Shape (m,) Label (Actual profits for the cities)\n",
    "        w, b (scalar): Parameters of the model\n",
    "    \n",
    "    Returns\n",
    "        total_cost (float): Обчислена функція J з параметрами w,b від вхідних даних x та y\n",
    "    \"\"\"    \n",
    "    m = len(x)\n",
    "    total_cost = 0\n",
    "    \n",
    "    # ВАШ КОД ТУТ\n",
    "    total_cost = np.sum((x*w+b-y)**2)/(2*m)\n",
    "    return total_cost"
   ]
  },
  {
   "cell_type": "code",
   "execution_count": 8,
   "metadata": {
    "ExecuteTime": {
     "end_time": "2022-07-03T19:39:20.638708Z",
     "start_time": "2022-07-03T19:39:20.635940Z"
    }
   },
   "outputs": [
    {
     "name": "stdout",
     "output_type": "stream",
     "text": [
      "Cost at initial w (zeros): 75.203\n"
     ]
    }
   ],
   "source": [
    "# Compute cost with some initial values for paramaters w, b\n",
    "initial_w = 2\n",
    "initial_b = 1\n",
    "\n",
    "cost = compute_cost(x_train, y_train, initial_w, initial_b)\n",
    "print(f'Cost at initial w (zeros): {cost:.3f}')"
   ]
  },
  {
   "cell_type": "markdown",
   "metadata": {
    "ExecuteTime": {
     "end_time": "2022-07-03T18:42:24.166865Z",
     "start_time": "2022-07-03T18:42:24.163410Z"
    }
   },
   "source": [
    "**Очікуваний результат**:\n",
    "<table>\n",
    "  <tr>\n",
    "    <td> <b>Cost at initial w (zeros):<b> 75.203 </td> \n",
    "  </tr>\n",
    "</table>"
   ]
  },
  {
   "cell_type": "markdown",
   "metadata": {},
   "source": [
    "# Задача 2 - обчислення та оновлення градієнтів"
   ]
  },
  {
   "cell_type": "markdown",
   "metadata": {
    "ExecuteTime": {
     "end_time": "2022-07-03T18:46:09.642575Z",
     "start_time": "2022-07-03T18:46:09.640306Z"
    }
   },
   "source": [
    "Алгоритм градієнтного спуску виглядає наступним чином\n",
    "\n",
    "$$\\begin{align*}& \\text{доки не досягнули мінімуму:} \\; \\lbrace \\newline \\; & \\phantom {0000} b := b -  \\alpha \\frac{\\partial J(w,b)}{\\partial b} \\newline       \\; & \\phantom {0000} w := w -  \\alpha \\frac{\\partial J(w,b)}{\\partial w} \\tag{1}  \\; & \n",
    "\\newline & \\rbrace\\end{align*}$$\n",
    "\n",
    "параметри $w, b$ обоє мають оновлювати одночасно за такими градієнтами\n",
    "$$\n",
    "\\frac{\\partial J(w,b)}{\\partial b}  = \\frac{1}{m} \\sum\\limits_{i = 0}^{m-1} (f_{w,b}(x^{(i)}) - y^{(i)}) \\tag{2}\n",
    "$$\n",
    "$$\n",
    "\\frac{\\partial J(w,b)}{\\partial w}  = \\frac{1}{m} \\sum\\limits_{i = 0}^{m-1} (f_{w,b}(x^{(i)}) -y^{(i)})x^{(i)} \\tag{3}\n",
    "$$\n",
    "* m кількість даних\n",
    "\n",
    "    \n",
    "*  $f_{w,b}(x^{(i)})$ передбачення моделі, а $y^{(i)}$ реальне значення"
   ]
  },
  {
   "cell_type": "code",
   "execution_count": 9,
   "metadata": {
    "ExecuteTime": {
     "end_time": "2022-07-03T19:39:20.644792Z",
     "start_time": "2022-07-03T19:39:20.642036Z"
    }
   },
   "outputs": [],
   "source": [
    "def compute_gradient(x, y, w, b): \n",
    "    \"\"\"\n",
    "    Computes the gradient for linear regression \n",
    "    Args:\n",
    "      x (ndarray): Shape (m,) Input to the model (Population of cities) \n",
    "      y (ndarray): Shape (m,) Label (Actual profits for the cities)\n",
    "      w, b (scalar): Parameters of the model  \n",
    "    Returns\n",
    "      dj_dw (scalar): The gradient of the cost w.r.t. the parameters w\n",
    "      dj_db (scalar): The gradient of the cost w.r.t. the parameter b     \n",
    "     \"\"\"\n",
    "    \n",
    "    # You need to return the following variables correctly\n",
    "    dj_dw = 0\n",
    "    dj_db = 0\n",
    "    \n",
    "    # ВАШ КОД ТУТ\n",
    "    m = len(x)\n",
    "    dj_db = np.sum(w * x + b - y)/m\n",
    "    dj_dw = np.sum((w * x + b - y)*x)/m    \n",
    "    return dj_dw, dj_db"
   ]
  },
  {
   "cell_type": "code",
   "execution_count": 10,
   "metadata": {
    "ExecuteTime": {
     "end_time": "2022-07-03T19:39:20.650907Z",
     "start_time": "2022-07-03T19:39:20.648082Z"
    }
   },
   "outputs": [
    {
     "name": "stdout",
     "output_type": "stream",
     "text": [
      "Gradient at initial w, b (zeros): -65.32884974555671 -5.839135051546393\n"
     ]
    }
   ],
   "source": [
    "# Compute and display gradient with w initialized to zeroes\n",
    "initial_w = 0\n",
    "initial_b = 0\n",
    "\n",
    "tmp_dj_dw, tmp_dj_db = compute_gradient(x_train, y_train, initial_w, initial_b)\n",
    "print('Gradient at initial w, b (zeros):', tmp_dj_dw, tmp_dj_db)"
   ]
  },
  {
   "cell_type": "markdown",
   "metadata": {},
   "source": [
    "**Очікуваний результат**:\n",
    "<table>\n",
    "  <tr>\n",
    "    <td> <b>Gradient at initial , b (zeros)<b></td>\n",
    "    <td> -65.32884975 -5.83913505154639</td> \n",
    "  </tr>\n",
    "</table>"
   ]
  },
  {
   "cell_type": "code",
   "execution_count": 11,
   "metadata": {
    "ExecuteTime": {
     "end_time": "2022-07-03T19:39:20.656545Z",
     "start_time": "2022-07-03T19:39:20.652884Z"
    }
   },
   "outputs": [
    {
     "name": "stdout",
     "output_type": "stream",
     "text": [
      "Gradient at test w, b: -47.41610118114433 -4.007175051546392\n"
     ]
    }
   ],
   "source": [
    "# Compute and display cost and gradient with non-zero w\n",
    "test_w = 0.2\n",
    "test_b = 0.2\n",
    "tmp_dj_dw, tmp_dj_db = compute_gradient(x_train, y_train, test_w, test_b)\n",
    "\n",
    "print('Gradient at test w, b:', tmp_dj_dw, tmp_dj_db)"
   ]
  },
  {
   "cell_type": "markdown",
   "metadata": {},
   "source": [
    "**Очікуваний результат**:\n",
    "<table>\n",
    "  <tr>\n",
    "    <td> <b>Gradient at test w<b></td>\n",
    "    <td> -47.41610118 -4.007175051546391</td> \n",
    "  </tr>\n",
    "</table>"
   ]
  },
  {
   "cell_type": "markdown",
   "metadata": {},
   "source": [
    "# Задача 3 - градієнтний спуск"
   ]
  },
  {
   "cell_type": "markdown",
   "metadata": {},
   "source": [
    "Тепер вам треба реалізувати весь алгоритм градієнтного спуску. Ваші задачі наступні:\n",
    "- Ви маєте зробити цикл і для кожної ітераці:\n",
    "    - обчислювати градієнт;\n",
    "    - оновлювати параметри;\n",
    "    - обчислювати та зберігати функцію втрат;\n",
    "    - Друкувати кожні (num_iters/10) ітерацій номер ітерації та поточне значеня функції втрат \n",
    "\n",
    "- Для валіадації що ваш алгоритм працюю добре, функція втрат має падати з кожним кроком."
   ]
  },
  {
   "cell_type": "code",
   "execution_count": 40,
   "metadata": {
    "ExecuteTime": {
     "end_time": "2022-07-03T19:39:20.663822Z",
     "start_time": "2022-07-03T19:39:20.659362Z"
    },
    "code_folding": []
   },
   "outputs": [],
   "source": [
    "def gradient_descent(x, y, w_in, b_in, cost_function, gradient_function, learning_rate, num_iters): \n",
    "    \"\"\"\n",
    "    Performs batch gradient descent to learn theta. Updates theta by taking \n",
    "    num_iters gradient steps with learning rate alpha\n",
    "    \n",
    "    Args:\n",
    "      x :    (ndarray): Shape (m,)\n",
    "      y :    (ndarray): Shape (m,)\n",
    "      w_in, b_in : (scalar) Initial values of parameters of the model\n",
    "      cost_function: function to compute cost\n",
    "      gradient_function: function to compute the gradient\n",
    "      alpha : (float) Learning rate\n",
    "      num_iters : (int) number of iterations to run gradient descent\n",
    "    Returns\n",
    "      w : (ndarray): Shape (1,) Updated values of parameters of the model after\n",
    "          running gradient descent\n",
    "      b : (scalar)                Updated value of parameter of the model after\n",
    "          running gradient descent\n",
    "    \"\"\"\n",
    "    \n",
    "    # number of training examples\n",
    "    m = len(x)\n",
    "    \n",
    "    # An array to store cost J and w's at each iteration — primarily for graphing later\n",
    "    J_history = []\n",
    "    w = copy.deepcopy(w_in)  #avoid modifying global w within function\n",
    "    b = b_in\n",
    "    \n",
    "    for i in range(num_iters):\n",
    "        \n",
    "        # ВАШ КОД ТУТ\n",
    "        \n",
    "        w_in, b_in = gradient_function(x, y, w, b)\n",
    "        w = w - learning_rate*w_in\n",
    "        b = b - learning_rate*b_in\n",
    "        loss = cost_function(x, y, w, b)\n",
    "        if i%10==0:\n",
    "           J_history.append((i, loss)) \n",
    "           print(i, loss)\n",
    "           \n",
    "        \n",
    "    \n",
    "    return w, b, J_history"
   ]
  },
  {
   "cell_type": "code",
   "execution_count": 41,
   "metadata": {
    "ExecuteTime": {
     "end_time": "2022-07-03T19:39:20.670003Z",
     "start_time": "2022-07-03T19:39:20.666233Z"
    }
   },
   "outputs": [
    {
     "name": "stdout",
     "output_type": "stream",
     "text": [
      "0 6.737190464870007\n",
      "10 5.859827889932181\n",
      "20 5.810817842627869\n",
      "30 5.76354476854712\n",
      "40 5.717947107333528\n",
      "50 5.673965480401506\n",
      "60 5.631542613611772\n",
      "70 5.590623262687323\n",
      "80 5.551154141272754\n",
      "90 5.513083851543225\n",
      "100 5.476362817272741\n",
      "110 5.440943219274565\n",
      "120 5.406778933129694\n",
      "130 5.373825469122317\n",
      "140 5.342039914304029\n",
      "150 5.311380876611354\n",
      "160 5.281808430963811\n",
      "170 5.253284067272322\n",
      "180 5.225770640290271\n",
      "190 5.199232321241896\n",
      "200 5.173634551165021\n",
      "210 5.148943995907395\n",
      "220 5.12512850271798\n",
      "230 5.102157058376736\n",
      "240 5.079999748808297\n",
      "250 5.05862772012701\n",
      "260 5.038013141062576\n",
      "270 5.018129166717367\n",
      "280 4.998949903608226\n",
      "290 4.9804503759472345\n",
      "300 4.962606493117519\n",
      "310 4.94539501830176\n",
      "320 4.928793538222535\n",
      "330 4.912780433955111\n",
      "340 4.897334852774656\n",
      "350 4.88243668100122\n",
      "360 4.868066517807122\n",
      "370 4.85420564995264\n",
      "380 4.840836027417081\n",
      "390 4.827940239893541\n",
      "400 4.8155014941166865\n",
      "410 4.80350359199409\n",
      "420 4.791930909512612\n",
      "430 4.780768376392351\n",
      "440 4.770001456461701\n",
      "450 4.7596161287279255\n",
      "460 4.7495988691186195\n",
      "470 4.739936632870274\n",
      "480 4.730616837541011\n",
      "490 4.721627346625359\n",
      "500 4.712956453749759\n",
      "510 4.7045928674281745\n",
      "520 4.696525696358007\n",
      "530 4.688744435237113\n",
      "540 4.681238951083514\n",
      "550 4.6739994700399246\n",
      "560 4.667016564645957\n",
      "570 4.660281141561418\n",
      "580 4.653784429724688\n",
      "590 4.647517968930801\n",
      "600 4.6414735988143185\n",
      "610 4.6356434482226705\n",
      "620 4.630019924966111\n",
      "630 4.62459570593095\n",
      "640 4.619363727543187\n",
      "650 4.614317176570122\n",
      "660 4.609449481247963\n",
      "670 4.60475430272389\n",
      "680 4.600225526801421\n",
      "690 4.595857255978325\n",
      "700 4.591643801766726\n",
      "710 4.587579677285394\n",
      "720 4.583659590114562\n",
      "730 4.579878435403997\n",
      "740 4.5762312892253085\n",
      "750 4.572713402159867\n",
      "760 4.56932019311398\n",
      "770 4.566047243353257\n",
      "780 4.562890290748406\n",
      "790 4.559845224224967\n",
      "800 4.5569080784097515\n",
      "810 4.554075028467021\n",
      "820 4.551342385117678\n",
      "830 4.548706589834975\n",
      "840 4.546164210210502\n",
      "850 4.543711935484407\n",
      "860 4.541346572234026\n",
      "870 4.53906504021532\n",
      "880 4.5368643683516865\n",
      "890 4.534741690864946\n",
      "900 4.532694243543437\n",
      "910 4.530719360142384\n",
      "920 4.5288144689118335\n",
      "930 4.52697708924765\n",
      "940 4.525204828461203\n",
      "950 4.523495378663533\n",
      "960 4.521846513759959\n",
      "970 4.520256086551191\n",
      "980 4.518722025937183\n",
      "990 4.517242334220096\n",
      "1000 4.515815084502823\n",
      "1010 4.514438418179744\n",
      "1020 4.5131105425163875\n",
      "1030 4.51182972831488\n",
      "1040 4.5105943076621395\n",
      "1050 4.509402671757868\n",
      "1060 4.508253268819525\n",
      "1070 4.507144602061552\n",
      "1080 4.506075227746219\n",
      "1090 4.505043753303542\n",
      "1100 4.50404883551784\n",
      "1110 4.503089178778568\n",
      "1120 4.502163533393121\n",
      "1130 4.501270693959463\n",
      "1140 4.500409497796411\n",
      "1150 4.499578823429556\n",
      "1160 4.498777589130852\n",
      "1170 4.498004751509956\n",
      "1180 4.497259304155494\n",
      "1190 4.496540276324489\n",
      "1200 4.495846731678219\n",
      "1210 4.4951777670629065\n",
      "1220 4.494532511333592\n",
      "1230 4.493910124219711\n",
      "1240 4.493309795230867\n",
      "1250 4.492730742601387\n",
      "1260 4.492172212272289\n",
      "1270 4.491633476909316\n",
      "1280 4.4911138349557875\n",
      "1290 4.490612609719008\n",
      "1300 4.490129148489064\n",
      "1310 4.489662821688839\n",
      "1320 4.489213022054162\n",
      "1330 4.48877916384302\n",
      "1340 4.488360682072769\n",
      "1350 4.487957031784418\n",
      "1360 4.487567687332955\n",
      "1370 4.487192141702837\n",
      "1380 4.48682990584775\n",
      "1390 4.486480508053741\n",
      "1400 4.4861434933249615\n",
      "1410 4.485818422791137\n",
      "1420 4.485504873136073\n",
      "1430 4.485202436046394\n",
      "1440 4.4849107176798215\n",
      "1450 4.484629338152313\n",
      "1460 4.4843579310433554\n",
      "1470 4.4840961429188075\n",
      "1480 4.483843632870647\n",
      "1490 4.483600072073026\n",
      "w,b found by gradient descent: 1.166362350335582 -3.6302914394043597\n"
     ]
    }
   ],
   "source": [
    "# initialize fitting parameters. Recall that the shape of w is (n,)\n",
    "initial_w = 0.\n",
    "initial_b = 0.\n",
    "\n",
    "# some gradient descent settings\n",
    "iterations = 1500\n",
    "learning_rate = 0.01\n",
    "\n",
    "w,b,_ = gradient_descent(x_train ,y_train, initial_w, initial_b, compute_cost, compute_gradient,\n",
    "                         learning_rate, iterations)\n",
    "\n",
    "print(\"w,b found by gradient descent:\", w, b)"
   ]
  },
  {
   "cell_type": "markdown",
   "metadata": {
    "ExecuteTime": {
     "end_time": "2022-07-03T19:15:31.712360Z",
     "start_time": "2022-07-03T19:15:31.708782Z"
    }
   },
   "source": [
    "**Очікуваний результат**:\n",
    "<table>\n",
    "  <tr>\n",
    "    <td> <b> Iteration    0:<b></td>\n",
    "    <td> <b> Cost     6.74<b></td>   \n",
    "  </tr>\n",
    "  <tr>\n",
    "    <td> <b> Iteration    150:<b></td>\n",
    "    <td> <b> Cost     5.31<b></td>   \n",
    "  </tr>\n",
    "  <tr>\n",
    "    <td> <b> Iteration    300:<b></td>\n",
    "    <td> <b> Cost     4.96<b></td>   \n",
    "  </tr>\n",
    "  <tr>\n",
    "    <td> <b> ...<b></td>\n",
    "    <td> <b> ...<b></td>   \n",
    "  </tr>\n",
    "  <tr>\n",
    "    <td> <b> Iteration 1350:<b></td>\n",
    "    <td> <b> Cost     4.49<b></td>   \n",
    "  </tr>\n",
    "  <tr>\n",
    "    <td> <b> w, b found by gradient descent<b></td>\n",
    "    <td> 1.16636235 -3.63029143940436</td> \n",
    "  </tr>\n",
    "</table>"
   ]
  },
  {
   "cell_type": "code",
   "execution_count": 42,
   "metadata": {
    "ExecuteTime": {
     "end_time": "2022-07-03T19:39:20.678054Z",
     "start_time": "2022-07-03T19:39:20.672617Z"
    },
    "scrolled": true
   },
   "outputs": [
    {
     "data": {
      "text/plain": [
       "array([ 3.49629916,  2.81700972,  6.30548288,  4.53797737,  3.20435866,\n",
       "        6.14720751,  5.08990004,  6.37488144,  3.93496804,  2.2652037 ,\n",
       "        3.03045403, 12.89006489,  3.05763028,  6.17694975,  2.94880867,\n",
       "        2.64403819,  3.79407147,  2.35326405,  3.86895193,  4.61682347,\n",
       "        3.58844178, 20.0118734 ,  2.7731545 ,  3.74823343,  2.8603984 ,\n",
       "       18.46644329, 11.33180479,  9.14954083, 11.73769889, 22.26645183,\n",
       "        2.49591017,  4.05533663,  7.15646085,  3.24168226,  5.94682646,\n",
       "        5.62292763,  5.81246151,  2.90868581, 11.34113569,  3.78007512,\n",
       "        2.67611315,  4.39719744, 10.02547896,  3.10393486,  5.49614404,\n",
       "        4.64283335,  2.28339895,  3.1362431 , 10.01614806,  2.83322216,\n",
       "        5.16431395,  2.56041001,  5.02866601,  5.23767815,  3.75604805,\n",
       "        3.78649011,  3.68769922,  2.94764231,  7.22877531,  7.39603168,\n",
       "        6.66332285,  2.41064908, 21.18873301, 13.75783848, 18.48277236,\n",
       "        4.78874528,  6.04480089,  8.30859358,  2.78400167, 20.09468513,\n",
       "        8.19195734,  4.92439322,  3.37511411,  4.79772627,  2.23289546,\n",
       "        4.00693259,  5.16244777,  2.24409254,  8.35291535,  2.32713754,\n",
       "        3.05203174,  2.42126298,  3.78275775,  7.76355245,  3.969609  ,\n",
       "        6.30384997,  7.07714821,  3.37021539,  2.80849528,  2.27080224,\n",
       "        3.02695495,  5.27675129,  3.21707201,  2.55772737,  6.04281808,\n",
       "       11.99196588,  2.71110402])"
      ]
     },
     "execution_count": 42,
     "metadata": {},
     "output_type": "execute_result"
    }
   ],
   "source": [
    "# тепер використовуючи наші параметри давайте зробимо передбачення\n",
    "predicted = w * x_train + b\n",
    "predicted"
   ]
  },
  {
   "cell_type": "code",
   "execution_count": 43,
   "metadata": {
    "ExecuteTime": {
     "end_time": "2022-07-03T19:39:20.844441Z",
     "start_time": "2022-07-03T19:39:20.680684Z"
    }
   },
   "outputs": [
    {
     "data": {
      "image/png": "[encoded data removed]",
      "text/plain": [
       "<Figure size 640x480 with 1 Axes>"
      ]
     },
     "metadata": {},
     "output_type": "display_data"
    }
   ],
   "source": [
    "# Plot the linear fit\n",
    "plt.plot(x_train, predicted, c = \"b\")\n",
    "\n",
    "# Create a scatter plot of the data. \n",
    "plt.scatter(x_train, y_train, marker='x', c='r') \n",
    "\n",
    "# Set the title\n",
    "plt.title(\"Прибуток vs. Популяція\")\n",
    "# Set the y-axis label\n",
    "plt.ylabel('Прибуток в $10,000')\n",
    "# Set the x-axis label\n",
    "plt.xlabel('Популяція міста в 10,000')\n",
    "plt.show()"
   ]
  },
  {
   "cell_type": "markdown",
   "metadata": {},
   "source": [
    "### Результати\n",
    "\n",
    "Ми побудували модель і найшли найкращу пряму яка описує наші дані, по графіку не дуже видно наскілкьи наша модель класна, давайте порахуємо ще метрику, а саме MSE - Середню квадратичну помилку."
   ]
  },
  {
   "cell_type": "code",
   "execution_count": 44,
   "metadata": {
    "ExecuteTime": {
     "end_time": "2022-07-03T19:39:21.144473Z",
     "start_time": "2022-07-03T19:39:20.846469Z"
    }
   },
   "outputs": [
    {
     "name": "stdout",
     "output_type": "stream",
     "text": [
      "На тренувальних даних MSE = 8.966776513175452\n"
     ]
    }
   ],
   "source": [
    "from sklearn.metrics import mean_squared_error\n",
    "\n",
    "print('На тренувальних даних MSE =', mean_squared_error(y_train, predicted))"
   ]
  },
  {
   "cell_type": "markdown",
   "metadata": {},
   "source": [
    "# Задача 4\n",
    "\n",
    "Ви реалізували лінійну регресію власноруч, тепер було б добре додати туди поліноміальні ознаки, але для цього легше використати готову реалізацію з sklearn.\n",
    "\n",
    "Ваша задача імпортувати з sklearn лінійну регресію, створити поліноміальні ознаки та натренувати її.\n",
    "\n",
    "Спробуйте досягнути значення MSE менше 2. "
   ]
  },
  {
   "cell_type": "code",
   "execution_count": 148,
   "metadata": {
    "ExecuteTime": {
     "end_time": "2022-07-03T19:39:21.148226Z",
     "start_time": "2022-07-03T19:39:21.146198Z"
    }
   },
   "outputs": [
    {
     "name": "stdout",
     "output_type": "stream",
     "text": [
      "-3.4523779357407793\n",
      "[0.         1.10087207 0.00379118]\n",
      "На тренувальних даних MSE = 8.948858779097986\n"
     ]
    }
   ],
   "source": [
    "# ВАШ КОД ТУТ\n",
    "from sklearn.linear_model import LinearRegression\n",
    "from sklearn.preprocessing import PolynomialFeatures\n",
    "\n",
    "dataset = pd.DataFrame({'population': data['population']})\n",
    "\n",
    "poly = PolynomialFeatures(2)\n",
    "x_poly = poly.fit_transform(dataset)\n",
    "\n",
    "x_train = x_poly\n",
    "\n",
    "\n",
    "model = LinearRegression(fit_intercept=True)\n",
    "model.fit(x_train, y_train)\n",
    "print(model.intercept_)\n",
    "print(model.coef_)\n",
    "predicted = model.predict(x_train)\n",
    "\n",
    "print('На тренувальних даних MSE =', mean_squared_error(y_train, predicted))"
   ]
  },
  {
   "cell_type": "code",
   "execution_count": 149,
   "metadata": {
    "ExecuteTime": {
     "end_time": "2022-07-03T19:39:21.276358Z",
     "start_time": "2022-07-03T19:39:21.154411Z"
    }
   },
   "outputs": [
    {
     "name": "stdout",
     "output_type": "stream",
     "text": [
      "(97, 3)\n",
      "(97,)\n"
     ]
    },
    {
     "data": {
      "image/png": "[encoded data removed]",
      "text/plain": [
       "<Figure size 640x480 with 1 Axes>"
      ]
     },
     "metadata": {},
     "output_type": "display_data"
    }
   ],
   "source": [
    "# Plot the linear fit\n",
    "plt.plot(x_train, predicted, c = \"b\")\n",
    "print(np.shape(x_train))\n",
    "print(np.shape(y_train))\n",
    "\n",
    "# Create a scatter plot of the data. \n",
    "plt.scatter(x_train[:,-1], y_train, marker='x', c='r') \n",
    "\n",
    "# Set the title\n",
    "plt.title(\"Прибуток vs. Популяція\")\n",
    "# Set the y-axis label\n",
    "plt.ylabel('Прибуток в $10,000')\n",
    "# Set the x-axis label\n",
    "plt.xlabel('Популяція міста в 10,000')\n",
    "plt.show()"
   ]
  }
 ],
 "metadata": {
  "kernelspec": {
   "display_name": "Python 3 (ipykernel)",
   "language": "python",
   "name": "python3"
  },
  "language_info": {
   "codemirror_mode": {
    "name": "ipython",
    "version": 3
   },
   "file_extension": ".py",
   "mimetype": "text/x-python",
   "name": "python",
   "nbconvert_exporter": "python",
   "pygments_lexer": "ipython3",
   "version": "3.8.5"
  },
  "varInspector": {
   "cols": {
    "lenName": 16,
    "lenType": 16,
    "lenVar": 40
   },
   "kernels_config": {
    "python": {
     "delete_cmd_postfix": "",
     "delete_cmd_prefix": "del ",
     "library": "var_list.py",
     "varRefreshCmd": "print(var_dic_list())"
    },
    "r": {
     "delete_cmd_postfix": ") ",
     "delete_cmd_prefix": "rm(",
     "library": "var_list.r",
     "varRefreshCmd": "cat(var_dic_list()) "
    }
   },
   "types_to_exclude": [
    "module",
    "function",
    "builtin_function_or_method",
    "instance",
    "_Feature"
   ],
   "window_display": false
  }
 },
 "nbformat": 4,
 "nbformat_minor": 4
}
