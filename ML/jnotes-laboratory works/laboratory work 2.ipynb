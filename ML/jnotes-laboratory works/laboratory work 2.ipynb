{
 "cells": [
  {
   "cell_type": "code",
   "execution_count": 2,
   "metadata": {},
   "outputs": [
    {
     "name": "stdout",
     "output_type": "stream",
     "text": [
      "452 3\n",
      "[0.8902591401788507, 0.887093485628866, 0.8782510671300707]\n"
     ]
    }
   ],
   "source": [
    "import pandas as pd\n",
    "import matplotlib.pyplot as plt\n",
    "import numpy as np\n",
    "import sklearn\n",
    "import math\n",
    "df = pd.read_csv(\"\") \n",
    "df = df.drop(columns='ID')\n",
    "sleepIndecat, sleepEf = df[[\"REM sleep percentage\", \"Deep sleep percentage\", \"Light sleep percentage\"]], df[\"Sleep efficiency\"] \n",
    "sleepIndecat = sleepIndecat.to_numpy()\n",
    "sleepIndecat = sleepIndecat.reshape(3, -1)\n",
    "m, n = np.shape(sleepIndecat)\n",
    "print(n, m)\n",
    "sigma = [0, 0, 0]\n",
    "for i in range(n):\n",
    "    sigma[0] += (sleepIndecat[0][i] - sleepIndecat[0].mean())**2\n",
    "    sigma[1] += (sleepIndecat[1][i] - sleepIndecat[1].mean())**2\n",
    "    sigma[2] += (sleepIndecat[2][i] - sleepIndecat[2].mean())**2  \n",
    "sigma[0], sigma[1], sigma[2] = math.sqrt(sigma[0])/n, math.sqrt(sigma[1])/n, math.sqrt(sigma[2])/n\n",
    "print(sigma)"
   ]
  },
  {
   "cell_type": "code",
   "execution_count": 20,
   "metadata": {},
   "outputs": [
    {
     "name": "stdout",
     "output_type": "stream",
     "text": [
      "[[ 1.         -0.27299006 -0.28618579]\n",
      " [-0.27299006  1.         -0.27947004]\n",
      " [-0.28618579 -0.27947004  1.        ]]\n"
     ]
    }
   ],
   "source": [
    "X = [[],[],[]]\n",
    "for i in range(m):\n",
    "    for j in range(n):\n",
    "        X[i].append((sleepIndecat[i][j] - sleepIndecat[i].mean())/math.sqrt(n*sigma[i]**2))\n",
    "X = np.array(X)\n",
    "r = np.matmul(X, X.transpose())/n\n",
    "print(r)\n",
    "\n"
   ]
  },
  {
   "cell_type": "code",
   "execution_count": 21,
   "metadata": {},
   "outputs": [
    {
     "name": "stdout",
     "output_type": "stream",
     "text": [
      "146.429735786599\n",
      "True\n"
     ]
    }
   ],
   "source": [
    "hi2 = -(n-1-(1/6)*(2*m+5))*math.log(np.linalg.det(r))\n",
    "print(hi2)\n",
    "hi2_table = 7.815\n",
    "print(hi2>hi2_table)\n"
   ]
  },
  {
   "cell_type": "code",
   "execution_count": 25,
   "metadata": {},
   "outputs": [
    {
     "data": {
      "text/plain": [
       "array([ True,  True,  True])"
      ]
     },
     "execution_count": 25,
     "metadata": {},
     "output_type": "execute_result"
    }
   ],
   "source": [
    "r_inv = np.linalg.inv(r)\n",
    "F = []\n",
    "for i in range(m):\n",
    "    F.append((r_inv[i][i]-1)*((n-m)/(m-1)))\n",
    "F = np.array(F)\n",
    "F_table = 2.6\n",
    "F>F_table"
   ]
  },
  {
   "cell_type": "code",
   "execution_count": 26,
   "metadata": {},
   "outputs": [
    {
     "name": "stdout",
     "output_type": "stream",
     "text": [
      "[-0.38366552026835327, -0.39242646856944635, -0.3879407684654296]\n"
     ]
    }
   ],
   "source": [
    "r_h = []\n",
    "r_h.append((-r_inv[0][1])/math.sqrt(r_inv[0][0]*r_inv[1][1]))\n",
    "r_h.append((-r_inv[0][2])/math.sqrt(r_inv[0][0]*r_inv[2][2]))\n",
    "r_h.append((-r_inv[1][2])/math.sqrt(r_inv[1][1]*r_inv[2][2]))\n",
    "print(r_h)"
   ]
  },
  {
   "cell_type": "code",
   "execution_count": 28,
   "metadata": {},
   "outputs": [
    {
     "name": "stdout",
     "output_type": "stream",
     "text": [
      "[-6.903609517677576, -7.039003223880064, -6.969778275626023]\n"
     ]
    },
    {
     "data": {
      "text/plain": [
       "array([False, False, False])"
      ]
     },
     "execution_count": 28,
     "metadata": {},
     "output_type": "execute_result"
    }
   ],
   "source": [
    "t_st = []\n",
    "for i in range(m):\n",
    "    t_st.append((r_h[i]*math.sqrt(n-m-1))/math.sqrt(1-r_h[i]))\n",
    "print(t_st)\n",
    "t_st = np.array(t_st)\n",
    "t_table = 1.984\n",
    "t_st>t_table"
   ]
  }
 ],
 "metadata": {
  "kernelspec": {
   "display_name": "Python 3",
   "language": "python",
   "name": "python3"
  },
  "language_info": {
   "codemirror_mode": {
    "name": "ipython",
    "version": 3
   },
   "file_extension": ".py",
   "mimetype": "text/x-python",
   "name": "python",
   "nbconvert_exporter": "python",
   "pygments_lexer": "ipython3",
   "version": "3.10.11"
  },
  "orig_nbformat": 4
 },
 "nbformat": 4,
 "nbformat_minor": 2
}
